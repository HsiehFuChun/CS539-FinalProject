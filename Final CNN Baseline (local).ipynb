{
 "cells": [
  {
   "cell_type": "code",
   "execution_count": 1,
   "metadata": {
    "colab": {
     "base_uri": "https://localhost:8080/"
    },
    "id": "ACiESaD8YJ-W",
    "outputId": "a7d5a0c6-39ab-4374-b354-c6451236e32b"
   },
   "outputs": [],
   "source": [
    "import numpy as np\n",
    "import pandas as pd\n",
    "import tensorflow as tf\n",
    "import matplotlib.pyplot as plt\n",
    "import os\n",
    "import wave\n",
    "import pylab\n",
    "from pathlib import Path\n",
    "from scipy import signal\n",
    "from scipy.io import wavfile\n",
    "from sklearn.metrics import confusion_matrix\n",
    "import itertools\n",
    "from tensorflow.keras import Sequential\n",
    "from tensorflow.keras.layers import Conv2D, MaxPooling2D, Flatten, Dense\n",
    "# from google.colab import drive\n",
    "# drive.mount('/content/drive')\n",
    "INPUT_DIR = '/Users/fuchunhsieh/Desktop/Fall_2023/Comp_Sci_539/Project/handcrafted/audios'\n",
    "OUTPUT_DIR = '/Users/fuchunhsieh/Desktop/Fall_2023/Comp_Sci_539/Project/handcrafted'\n",
    "np.set_printoptions(precision=4)\n",
    "\n",
    "# # list all the files and directories within a specified directory\n",
    "# parent_list = os.listdir(INPUT_DIR)\n",
    "# print(len(parent_list)) # 6 speakers, 10 digits, 50 recordings for each digit\n",
    "# for i in range(10):\n",
    "#     print(parent_list[i])"
   ]
  },
  {
   "cell_type": "code",
   "execution_count": 2,
   "metadata": {
    "colab": {
     "base_uri": "https://localhost:8080/"
    },
    "id": "RxqGtOzjYJ-Z",
    "outputId": "06d2f398-16ed-4df5-ed0e-f6bc3f7e4112"
   },
   "outputs": [
    {
     "name": "stdout",
     "output_type": "stream",
     "text": [
      "Found 30000 files belonging to 10 classes.\n",
      "Using 21000 files for training.\n",
      "Found 30000 files belonging to 10 classes.\n",
      "Using 9000 files for validation.\n",
      "validation dataset is further split into 50/50 test/valid dataset \n",
      "\n",
      "batch size: 32\n",
      "train_dataset batch numbers: 657\n",
      "valid_dataset batch numbers: 141\n",
      "test_dataset batch numbers: 141\n"
     ]
    }
   ],
   "source": [
    "IMAGE_HEIGHT = 256\n",
    "IMAGE_WIDTH = 256\n",
    "BATCH_SIZE = 32\n",
    "N_CHANNELS = 3\n",
    "N_CLASSES = 10\n",
    "\n",
    "train_dataset = tf.keras.preprocessing.image_dataset_from_directory(\n",
    "    batch_size = BATCH_SIZE,\n",
    "    validation_split = 0.3,\n",
    "    directory = os.path.join(OUTPUT_DIR, 'audio-images'),\n",
    "    shuffle = True,\n",
    "    color_mode = 'rgb',\n",
    "    image_size = (IMAGE_HEIGHT, IMAGE_WIDTH),\n",
    "    subset = \"training\",\n",
    "    seed = 0\n",
    ")\n",
    "\n",
    "valid_dataset = tf.keras.preprocessing.image_dataset_from_directory(\n",
    "    batch_size = BATCH_SIZE,\n",
    "    validation_split = 0.3,\n",
    "    directory = os.path.join(OUTPUT_DIR, 'audio-images'),\n",
    "    shuffle = True,\n",
    "    color_mode = 'rgb',\n",
    "    image_size = (IMAGE_HEIGHT, IMAGE_WIDTH),\n",
    "    subset = \"validation\",\n",
    "    seed = 0\n",
    ")\n",
    "\n",
    "def split_dataset(dataset, split_fraction=0.5):\n",
    "    dataset_size = len(dataset)\n",
    "    split_size = int(dataset_size * split_fraction)\n",
    "    # print(dataset_size, split_size)\n",
    "    dataset = dataset.shuffle(buffer_size=dataset_size)\n",
    "    return dataset.take(split_size), dataset.skip(split_size)\n",
    "\n",
    "test_dataset, valid_dataset = split_dataset(valid_dataset, split_fraction=0.5)\n",
    "print('validation dataset is further split into 50/50 test/valid dataset', '\\n')\n",
    "print('batch size:', BATCH_SIZE)\n",
    "print('train_dataset batch numbers:', len(train_dataset))\n",
    "print('valid_dataset batch numbers:', len(valid_dataset))\n",
    "print('test_dataset batch numbers:', len(test_dataset))"
   ]
  },
  {
   "cell_type": "code",
   "execution_count": 3,
   "metadata": {
    "id": "-zf-L7azYJ-b"
   },
   "outputs": [],
   "source": [
    "# Function to prepare our datasets for modelling\n",
    "def prepare(ds, augment=False):\n",
    "    # Define our one transformation\n",
    "    rescale = tf.keras.Sequential([tf.keras.layers.experimental.preprocessing.Rescaling(1./255)])\n",
    "    flip_and_rotate = tf.keras.Sequential([\n",
    "        tf.keras.layers.experimental.preprocessing.RandomFlip(\"horizontal_and_vertical\"),\n",
    "        tf.keras.layers.experimental.preprocessing.RandomRotation(0.2)\n",
    "    ])\n",
    "\n",
    "    # Apply rescale to both datasets and augmentation only to training\n",
    "    ds = ds.map(lambda x, y: (rescale(x, training=True), y))\n",
    "    if augment: ds = ds.map(lambda x, y: (flip_and_rotate(x, training=True), y))\n",
    "    return ds\n",
    "\n",
    "train_dataset = prepare(train_dataset, augment=False)\n",
    "valid_dataset = prepare(valid_dataset, augment=False)"
   ]
  },
  {
   "cell_type": "code",
   "execution_count": 4,
   "metadata": {
    "colab": {
     "base_uri": "https://localhost:8080/",
     "height": 376
    },
    "id": "XLvDNyUGYJ-c",
    "outputId": "15607ade-b037-4f85-e944-055e0cd26b3f"
   },
   "outputs": [
    {
     "name": "stderr",
     "output_type": "stream",
     "text": [
      "WARNING:absl:At this time, the v2.11+ optimizer `tf.keras.optimizers.RMSprop` runs slowly on M1/M2 Macs, please use the legacy Keras optimizer instead, located at `tf.keras.optimizers.legacy.RMSprop`.\n",
      "WARNING:absl:There is a known slowdown when using v2.11+ Keras optimizers on M1/M2 Macs. Falling back to the legacy Keras optimizer, i.e., `tf.keras.optimizers.legacy.RMSprop`.\n"
     ]
    },
    {
     "name": "stdout",
     "output_type": "stream",
     "text": [
      "Epoch 1/10\n",
      "657/657 [==============================] - 144s 217ms/step - loss: 0.1374 - accuracy: 0.9648 - val_loss: 0.0958 - val_accuracy: 0.9719\n",
      "Epoch 2/10\n",
      "657/657 [==============================] - 138s 210ms/step - loss: 0.0325 - accuracy: 0.9925 - val_loss: 0.0119 - val_accuracy: 0.9964\n",
      "Epoch 3/10\n",
      "657/657 [==============================] - 139s 211ms/step - loss: 0.0222 - accuracy: 0.9944 - val_loss: 0.1327 - val_accuracy: 0.9525\n",
      "Epoch 4/10\n",
      "657/657 [==============================] - 138s 209ms/step - loss: 0.0194 - accuracy: 0.9958 - val_loss: 0.2099 - val_accuracy: 0.9280\n",
      "Epoch 5/10\n",
      "657/657 [==============================] - 141s 214ms/step - loss: 0.0140 - accuracy: 0.9970 - val_loss: 0.0146 - val_accuracy: 0.9960\n",
      "Epoch 6/10\n",
      "657/657 [==============================] - 139s 211ms/step - loss: 0.0118 - accuracy: 0.9967 - val_loss: 5.1904 - val_accuracy: 0.4464\n",
      "Epoch 7/10\n",
      "657/657 [==============================] - 139s 211ms/step - loss: 0.0104 - accuracy: 0.9975 - val_loss: 0.1766 - val_accuracy: 0.9357\n",
      "Epoch 8/10\n",
      "657/657 [==============================] - 139s 210ms/step - loss: 0.0099 - accuracy: 0.9971 - val_loss: 0.0093 - val_accuracy: 0.9969\n",
      "Epoch 9/10\n",
      "657/657 [==============================] - 140s 212ms/step - loss: 0.0075 - accuracy: 0.9980 - val_loss: 0.0349 - val_accuracy: 0.9902\n",
      "Epoch 10/10\n",
      "657/657 [==============================] - 139s 211ms/step - loss: 0.0094 - accuracy: 0.9972 - val_loss: 0.0168 - val_accuracy: 0.9949\n"
     ]
    }
   ],
   "source": [
    "# Create CNN model\n",
    "model = tf.keras.models.Sequential()\n",
    "model.add(tf.keras.layers.Input(shape=(IMAGE_HEIGHT, IMAGE_WIDTH, N_CHANNELS)))\n",
    "model.add(tf.keras.layers.Conv2D(32, 3, strides=2, padding='same', activation='relu'))\n",
    "model.add(tf.keras.layers.BatchNormalization())\n",
    "model.add(tf.keras.layers.MaxPooling2D(pool_size=(2, 2)))\n",
    "model.add(tf.keras.layers.BatchNormalization())\n",
    "model.add(tf.keras.layers.Conv2D(64, 3, padding='same', activation='relu'))\n",
    "model.add(tf.keras.layers.BatchNormalization())\n",
    "model.add(tf.keras.layers.MaxPooling2D(pool_size=(2, 2)))\n",
    "model.add(tf.keras.layers.BatchNormalization())\n",
    "model.add(tf.keras.layers.Conv2D(128, 3, padding='same', activation='relu'))\n",
    "model.add(tf.keras.layers.BatchNormalization())\n",
    "model.add(tf.keras.layers.MaxPooling2D(pool_size=(2, 2)))\n",
    "model.add(tf.keras.layers.BatchNormalization())\n",
    "model.add(tf.keras.layers.Flatten())\n",
    "model.add(tf.keras.layers.Dense(256, activation='relu'))\n",
    "model.add(tf.keras.layers.BatchNormalization())\n",
    "model.add(tf.keras.layers.Dropout(0.5))\n",
    "model.add(tf.keras.layers.Dense(N_CLASSES, activation='softmax'))\n",
    "model.compile(\n",
    "    loss='sparse_categorical_crossentropy',\n",
    "    optimizer=tf.keras.optimizers.RMSprop(),\n",
    "    metrics=['accuracy'],\n",
    ")\n",
    "\n",
    "# Train model for 10 epochs, capture the history\n",
    "history = model.fit(train_dataset, epochs=10, validation_data=valid_dataset)"
   ]
  },
  {
   "cell_type": "code",
   "execution_count": 5,
   "metadata": {
    "id": "_av8le93YJ-e"
   },
   "outputs": [
    {
     "data": {
      "image/png": "[encoded data removed]",
      "text/plain": [
       "<Figure size 800x600 with 1 Axes>"
      ]
     },
     "metadata": {},
     "output_type": "display_data"
    }
   ],
   "source": [
    "# Plot the loss curves for training and validation.\n",
    "history_dict = history.history\n",
    "loss_values = history_dict['loss']\n",
    "val_loss_values = history_dict['val_loss']\n",
    "epochs = range(1, len(loss_values)+1)\n",
    "\n",
    "plt.figure(figsize=(8,6))\n",
    "plt.plot(epochs, loss_values, 'bo', label='Training loss')\n",
    "plt.plot(epochs, val_loss_values, 'b', label='Validation loss')\n",
    "plt.title('Training and validation loss')\n",
    "plt.xlabel('Epochs')\n",
    "plt.ylabel('Loss')\n",
    "plt.legend()\n",
    "plt.show()"
   ]
  },
  {
   "cell_type": "code",
   "execution_count": 6,
   "metadata": {
    "id": "3eIksM-aYJ-f"
   },
   "outputs": [
    {
     "data": {
      "image/png": "[encoded data removed]",
      "text/plain": [
       "<Figure size 800x600 with 1 Axes>"
      ]
     },
     "metadata": {},
     "output_type": "display_data"
    }
   ],
   "source": [
    "# Plot the accuracy curves for training and validation.\n",
    "acc_values = history_dict['accuracy']\n",
    "val_acc_values = history_dict['val_accuracy']\n",
    "epochs = range(1, len(acc_values)+1)\n",
    "\n",
    "plt.figure(figsize=(8,6))\n",
    "plt.plot(epochs, acc_values, 'bo', label='Training accuracy')\n",
    "plt.plot(epochs, val_acc_values, 'b', label='Validation accuracy')\n",
    "plt.title('Training and validation accuracy')\n",
    "plt.xlabel('Epochs')\n",
    "plt.ylabel('Accuracy')\n",
    "plt.legend()\n",
    "plt.show()"
   ]
  },
  {
   "cell_type": "code",
   "execution_count": 7,
   "metadata": {
    "id": "5Nld1pXCYJ-g"
   },
   "outputs": [
    {
     "name": "stdout",
     "output_type": "stream",
     "text": [
      "Final loss: 0.016055, final accuracy: 0.995544\n"
     ]
    }
   ],
   "source": [
    "# Compute the final loss and accuracy\n",
    "final_loss, final_acc = model.evaluate(valid_dataset, verbose=0)\n",
    "print(\"Final loss: {0:.6f}, final accuracy: {1:.6f}\".format(final_loss, final_acc))"
   ]
  },
  {
   "cell_type": "code",
   "execution_count": 8,
   "metadata": {
    "id": "APZLpfU9YJ-i"
   },
   "outputs": [
    {
     "name": "stdout",
     "output_type": "stream",
     "text": [
      "Model: \"sequential_4\"\n",
      "_________________________________________________________________\n",
      " Layer (type)                Output Shape              Param #   \n",
      "=================================================================\n",
      " conv2d (Conv2D)             (None, 128, 128, 32)      896       \n",
      "                                                                 \n",
      " batch_normalization (Batch  (None, 128, 128, 32)      128       \n",
      " Normalization)                                                  \n",
      "                                                                 \n",
      " max_pooling2d (MaxPooling2  (None, 64, 64, 32)        0         \n",
      " D)                                                              \n",
      "                                                                 \n",
      " batch_normalization_1 (Bat  (None, 64, 64, 32)        128       \n",
      " chNormalization)                                                \n",
      "                                                                 \n",
      " conv2d_1 (Conv2D)           (None, 64, 64, 64)        18496     \n",
      "                                                                 \n",
      " batch_normalization_2 (Bat  (None, 64, 64, 64)        256       \n",
      " chNormalization)                                                \n",
      "                                                                 \n",
      " max_pooling2d_1 (MaxPoolin  (None, 32, 32, 64)        0         \n",
      " g2D)                                                            \n",
      "                                                                 \n",
      " batch_normalization_3 (Bat  (None, 32, 32, 64)        256       \n",
      " chNormalization)                                                \n",
      "                                                                 \n",
      " conv2d_2 (Conv2D)           (None, 32, 32, 128)       73856     \n",
      "                                                                 \n",
      " batch_normalization_4 (Bat  (None, 32, 32, 128)       512       \n",
      " chNormalization)                                                \n",
      "                                                                 \n",
      " max_pooling2d_2 (MaxPoolin  (None, 16, 16, 128)       0         \n",
      " g2D)                                                            \n",
      "                                                                 \n",
      " batch_normalization_5 (Bat  (None, 16, 16, 128)       512       \n",
      " chNormalization)                                                \n",
      "                                                                 \n",
      " flatten (Flatten)           (None, 32768)             0         \n",
      "                                                                 \n",
      " dense (Dense)               (None, 256)               8388864   \n",
      "                                                                 \n",
      " batch_normalization_6 (Bat  (None, 256)               1024      \n",
      " chNormalization)                                                \n",
      "                                                                 \n",
      " dropout (Dropout)           (None, 256)               0         \n",
      "                                                                 \n",
      " dense_1 (Dense)             (None, 10)                2570      \n",
      "                                                                 \n",
      "=================================================================\n",
      "Total params: 8487498 (32.38 MB)\n",
      "Trainable params: 8486090 (32.37 MB)\n",
      "Non-trainable params: 1408 (5.50 KB)\n",
      "_________________________________________________________________\n",
      "None\n"
     ]
    }
   ],
   "source": [
    "print(model.summary())"
   ]
  },
  {
   "cell_type": "code",
   "execution_count": 9,
   "metadata": {
    "id": "H4Y5vdN2YJ-i"
   },
   "outputs": [
    {
     "name": "stdout",
     "output_type": "stream",
     "text": [
      "Average time per batch:  0.024594202364065888\n",
      "Final loss: 1768796.500000, final accuracy: 0.105838\n"
     ]
    }
   ],
   "source": [
    "import time\n",
    "\n",
    "# Start the timer.\n",
    "t0 = time.process_time()\n",
    "\n",
    "\n",
    "final_loss, final_acc = model.evaluate(test_dataset, verbose=0)\n",
    "\n",
    "# Stop the timer.0\n",
    "t1 = time.process_time()\n",
    "\n",
    "# print((t1-t0), len(valid_dataset), 'batches')\n",
    "avg_time = (t1 - t0) / len(valid_dataset) / 30\n",
    "print(\"Average time per batch: \", avg_time)\n",
    "print(\"Final loss: {0:.6f}, final accuracy: {1:.6f}\".format(final_loss, final_acc))\n"
   ]
  },
  {
   "cell_type": "markdown",
   "metadata": {},
   "source": [
    "9.980984000000035 15 batches\n",
    "Average time per batch:  0.6653989333333357\n",
    "Final loss: 290320.281250, final accuracy: 0.118304"
   ]
  },
  {
   "cell_type": "code",
   "execution_count": 10,
   "metadata": {},
   "outputs": [
    {
     "name": "stdout",
     "output_type": "stream",
     "text": [
      "4512\n",
      "[5 5 5 ... 5 5 5]\n",
      "[[  0   0   3   0   0 410   0   0   0   0]\n",
      " [  0   0   0   0   0 467   0   0   0   0]\n",
      " [  0   0  22   0   0 427   0   0   0   0]\n",
      " [  0   0   1   0   0 477   0   0   0   0]\n",
      " [  0   0   0   0   0 440   0   0   0   0]\n",
      " [  0   0   0   0   0 454   0   0   0   0]\n",
      " [  0   0   0   0   0 442   0   0   0   0]\n",
      " [  0   0   0   0   0 443   0   0   0   0]\n",
      " [  0   0   0   0   0 446   0   0   0   0]\n",
      " [  0   0   0   0   0 480   0   0   0   0]]\n",
      "Accuracy: 0.10549645390070922\n"
     ]
    }
   ],
   "source": [
    "from itertools import tee\n",
    "temp = test_dataset.as_numpy_iterator()\n",
    "temp, temp2 = tee(temp)\n",
    "testing = temp\n",
    "arrays = [y for x, y in temp2]\n",
    "true_classes = []\n",
    "for array in arrays:\n",
    "    true_classes.extend(array)\n",
    "import numpy as np\n",
    "import matplotlib.pyplot as plt\n",
    "import seaborn as sns\n",
    "from sklearn.metrics import confusion_matrix\n",
    "\n",
    "# Get predictions\n",
    "predictions = model.predict(temp, verbose=0)\n",
    "print(len(predictions))\n",
    "predicted_classes = np.argmax(predictions, axis=1)\n",
    "\n",
    "# Extract true labels from batches\n",
    "# true_classes = np.concatenate([y.numpy() for x, y in testing])\n",
    "# true_classes = true_classes[np.logical_not(np.isnan(true_classes))]\n",
    "# Create confusion matrix\n",
    "print(predicted_classes)\n",
    "cm = confusion_matrix(true_classes, predicted_classes)\n",
    "\n",
    "# Plot the matrix\n",
    "print(cm)\n",
    "from sklearn.metrics import accuracy_score\n",
    "accuracy = accuracy_score(true_classes, predicted_classes)\n",
    "print(f\"Accuracy: {accuracy}\")"
   ]
  },
  {
   "cell_type": "code",
   "execution_count": null,
   "metadata": {},
   "outputs": [],
   "source": []
  }
 ],
 "metadata": {
  "accelerator": "GPU",
  "colab": {
   "gpuType": "T4",
   "provenance": []
  },
  "kernelspec": {
   "display_name": "Python 3 (ipykernel)",
   "language": "python",
   "name": "python3"
  },
  "language_info": {
   "codemirror_mode": {
    "name": "ipython",
    "version": 3
   },
   "file_extension": ".py",
   "mimetype": "text/x-python",
   "name": "python",
   "nbconvert_exporter": "python",
   "pygments_lexer": "ipython3",
   "version": "3.9.18"
  }
 },
 "nbformat": 4,
 "nbformat_minor": 4
}
