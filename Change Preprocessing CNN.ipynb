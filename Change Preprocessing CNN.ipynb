{
 "cells": [
  {
   "cell_type": "code",
   "execution_count": 1,
   "metadata": {
    "colab": {
     "base_uri": "https://localhost:8080/"
    },
    "id": "ACiESaD8YJ-W",
    "outputId": "e3effc96-1a07-41cc-c5f4-741d66328206"
   },
   "outputs": [],
   "source": [
    "import numpy as np\n",
    "import pandas as pd\n",
    "import tensorflow as tf\n",
    "import matplotlib.pyplot as plt\n",
    "import os\n",
    "import wave\n",
    "import pylab\n",
    "from pathlib import Path\n",
    "from scipy import signal\n",
    "from scipy.io import wavfile\n",
    "from sklearn.metrics import confusion_matrix\n",
    "import itertools\n",
    "from tensorflow.keras import Sequential\n",
    "from tensorflow.keras.layers import Conv2D, MaxPooling2D, Flatten, Dense\n",
    "from tensorflow.keras.callbacks import EarlyStopping\n",
    "import time\n",
    "INPUT_DIR = '/Users/fuchunhsieh/Desktop/Fall_2023/Comp_Sci_539/Project/free-spoken-digit-dataset-master/recordings'\n",
    "OUTPUT_DIR = '/Users/fuchunhsieh/Desktop/Fall_2023/Comp_Sci_539/Project'\n",
    "\n",
    "# list all the files and directories within a specified directory\n",
    "# parent_list = os.listdir(INPUT_DIR)\n",
    "# print(len(parent_list)) # 6 speakers, 10 digits, 50 recordings for each digit\n",
    "# for i in range(10):\n",
    "#     print(parent_list[i])"
   ]
  },
  {
   "cell_type": "markdown",
   "metadata": {},
   "source": [
    "# Convert audio files to image files"
   ]
  },
  {
   "cell_type": "code",
   "execution_count": 2,
   "metadata": {
    "colab": {
     "base_uri": "https://localhost:8080/"
    },
    "id": "9Z9ksGe1t3oI",
    "outputId": "7782b35d-6bf7-4a1b-8c11-43e21c6e619f"
   },
   "outputs": [],
   "source": [
    "# only need to do once, convert audio file to images\n",
    "t_process_0 = time.process_time()\n",
    "def get_wav_info(wav_file):\n",
    "    wav = wave.open(wav_file, 'r')\n",
    "    frames = wav.readframes(-1)\n",
    "    sound_info = np.frombuffer(frames, 'int16')\n",
    "    frame_rate = wav.getframerate()\n",
    "    wav.close()\n",
    "    return sound_info, frame_rate\n",
    "if not os.path.exists(os.path.join(OUTPUT_DIR, 'audio-images')):\n",
    "    os.mkdir(os.path.join(OUTPUT_DIR, 'audio-images'))\n",
    "    for filename in os.listdir(INPUT_DIR):\n",
    "        if \"wav\" in filename:\n",
    "            file_path = os.path.join(INPUT_DIR, filename)\n",
    "            file_stem = Path(file_path).stem\n",
    "            target_dir = f'class_{file_stem[0]}'\n",
    "            dist_dir = os.path.join(OUTPUT_DIR, 'audio-images', target_dir)\n",
    "            file_dist_path = os.path.join(dist_dir, file_stem)\n",
    "            if not os.path.exists(dist_dir):\n",
    "                os.makedirs(dist_dir)\n",
    "            if not os.path.exists(file_dist_path + '.png'):\n",
    "                file_stem = Path(file_path).stem\n",
    "                sound_info, frame_rate = get_wav_info(file_path)\n",
    "                tf.stft(frame_step=frame_rate)\n",
    "                pylab.savefig(f'{file_dist_path}.png')\n",
    "                pylab.close()\n",
    "path_list = os.listdir(os.path.join(OUTPUT_DIR, 'audio-images'))\n",
    "# print(\"Classes: \\n\")\n",
    "# for i in range(10):\n",
    "#     print(path_list[i])\n",
    "\n",
    "# path_list = os.listdir(os.path.join(OUTPUT_DIR, 'audio-images/class_1'))\n",
    "# print(\"\\nA few example files: \\n\")\n",
    "# for i in range(10):\n",
    "#     print(path_list[i])\n",
    "t_process_1 = time.process_time()\n",
    "# print(t_process_1-t_process_0)"
   ]
  },
  {
   "cell_type": "markdown",
   "metadata": {},
   "source": [
    "image process time 989.6 \\\n",
    "average time per sample to process = 0.33 (s)"
   ]
  },
  {
   "cell_type": "markdown",
   "metadata": {
    "id": "8IIasxjxsxgC"
   },
   "source": [
    "# Load and Process Data\n"
   ]
  },
  {
   "cell_type": "code",
   "execution_count": 38,
   "metadata": {
    "colab": {
     "base_uri": "https://localhost:8080/"
    },
    "id": "RxqGtOzjYJ-Z",
    "outputId": "029fe361-dcf5-450c-8fe2-bf2f3fe56e40"
   },
   "outputs": [
    {
     "name": "stdout",
     "output_type": "stream",
     "text": [
      "Found 3000 files belonging to 10 classes.\n",
      "Using 2100 files for training.\n",
      "Found 3000 files belonging to 10 classes.\n",
      "Using 900 files for validation.\n",
      "validation dataset is further split into 50/50 test/valid dataset \n",
      "\n",
      "batch size: 32\n",
      "train_dataset batch numbers: 66\n",
      "valid_dataset batch numbers: 15\n",
      "test_dataset batch numbers: 14\n"
     ]
    }
   ],
   "source": [
    "IMAGE_HEIGHT = 64\n",
    "IMAGE_WIDTH = 64\n",
    "BATCH_SIZE = 32\n",
    "N_CHANNELS = 1\n",
    "N_CLASSES = 10\n",
    "\n",
    "directory = os.path.join(OUTPUT_DIR, 'audio-images')\n",
    "train_dataset = tf.keras.preprocessing.image_dataset_from_directory(\n",
    "    batch_size = BATCH_SIZE,\n",
    "    validation_split = 0.3,\n",
    "    directory=directory,\n",
    "    shuffle = True,\n",
    "    color_mode = 'grayscale',\n",
    "    image_size = (IMAGE_HEIGHT, IMAGE_WIDTH),\n",
    "    subset = \"training\",\n",
    "    seed = 42\n",
    ")\n",
    "\n",
    "valid_dataset = tf.keras.preprocessing.image_dataset_from_directory(\n",
    "    batch_size = BATCH_SIZE,\n",
    "    validation_split = 0.3,\n",
    "    directory=directory,\n",
    "    shuffle = True,\n",
    "    color_mode = 'grayscale',\n",
    "    image_size = (IMAGE_HEIGHT, IMAGE_WIDTH),\n",
    "    subset = \"validation\",\n",
    "    seed = 42\n",
    ")\n",
    "\n",
    "def split_dataset(dataset, split_fraction=0.5):\n",
    "  dataset_size = len(dataset)\n",
    "  split_size = int(dataset_size * split_fraction)\n",
    "  dataset = dataset.shuffle(buffer_size=dataset_size)\n",
    "  return dataset.take(split_size), dataset.skip(split_size)\n",
    "\n",
    "test_dataset, valid_dataset = split_dataset(valid_dataset, split_fraction=0.5)\n",
    "print('validation dataset is further split into 50/50 test/valid dataset', '\\n')\n",
    "print('batch size:', BATCH_SIZE)\n",
    "print('train_dataset batch numbers:', len(train_dataset))\n",
    "print('valid_dataset batch numbers:', len(valid_dataset))\n",
    "print('test_dataset batch numbers:', len(test_dataset))"
   ]
  },
  {
   "cell_type": "markdown",
   "metadata": {
    "id": "bvyUbqirtaGF"
   },
   "source": [
    "# CNN Model"
   ]
  },
  {
   "cell_type": "code",
   "execution_count": 39,
   "metadata": {
    "colab": {
     "base_uri": "https://localhost:8080/"
    },
    "id": "XLvDNyUGYJ-c",
    "outputId": "8d4bfae9-bfe6-4b09-ff27-1082e1386d7a"
   },
   "outputs": [
    {
     "name": "stdout",
     "output_type": "stream",
     "text": [
      "Model: \"sequential_2\"\n",
      "_________________________________________________________________\n",
      " Layer (type)                Output Shape              Param #   \n",
      "=================================================================\n",
      " conv2d_6 (Conv2D)           (None, 32, 32, 32)        320       \n",
      "                                                                 \n",
      " batch_normalization_14 (Ba  (None, 32, 32, 32)        128       \n",
      " tchNormalization)                                               \n",
      "                                                                 \n",
      " max_pooling2d_6 (MaxPoolin  (None, 16, 16, 32)        0         \n",
      " g2D)                                                            \n",
      "                                                                 \n",
      " batch_normalization_15 (Ba  (None, 16, 16, 32)        128       \n",
      " tchNormalization)                                               \n",
      "                                                                 \n",
      " conv2d_7 (Conv2D)           (None, 16, 16, 64)        18496     \n",
      "                                                                 \n",
      " batch_normalization_16 (Ba  (None, 16, 16, 64)        256       \n",
      " tchNormalization)                                               \n",
      "                                                                 \n",
      " max_pooling2d_7 (MaxPoolin  (None, 8, 8, 64)          0         \n",
      " g2D)                                                            \n",
      "                                                                 \n",
      " batch_normalization_17 (Ba  (None, 8, 8, 64)          256       \n",
      " tchNormalization)                                               \n",
      "                                                                 \n",
      " conv2d_8 (Conv2D)           (None, 8, 8, 128)         73856     \n",
      "                                                                 \n",
      " batch_normalization_18 (Ba  (None, 8, 8, 128)         512       \n",
      " tchNormalization)                                               \n",
      "                                                                 \n",
      " max_pooling2d_8 (MaxPoolin  (None, 4, 4, 128)         0         \n",
      " g2D)                                                            \n",
      "                                                                 \n",
      " batch_normalization_19 (Ba  (None, 4, 4, 128)         512       \n",
      " tchNormalization)                                               \n",
      "                                                                 \n",
      " flatten_2 (Flatten)         (None, 2048)              0         \n",
      "                                                                 \n",
      " dense_4 (Dense)             (None, 256)               524544    \n",
      "                                                                 \n",
      " batch_normalization_20 (Ba  (None, 256)               1024      \n",
      " tchNormalization)                                               \n",
      "                                                                 \n",
      " dropout_2 (Dropout)         (None, 256)               0         \n",
      "                                                                 \n",
      " dense_5 (Dense)             (None, 10)                2570      \n",
      "                                                                 \n",
      "=================================================================\n",
      "Total params: 622602 (2.38 MB)\n",
      "Trainable params: 621194 (2.37 MB)\n",
      "Non-trainable params: 1408 (5.50 KB)\n",
      "_________________________________________________________________\n"
     ]
    }
   ],
   "source": [
    "model = tf.keras.models.Sequential()\n",
    "model.add(tf.keras.layers.Input(shape=(IMAGE_HEIGHT, IMAGE_WIDTH, N_CHANNELS)))\n",
    "model.add(tf.keras.layers.Conv2D(32, 3, strides=2, padding='same', activation='relu'))\n",
    "model.add(tf.keras.layers.BatchNormalization())\n",
    "model.add(tf.keras.layers.MaxPooling2D(pool_size=(2, 2)))\n",
    "model.add(tf.keras.layers.BatchNormalization())\n",
    "model.add(tf.keras.layers.Conv2D(64, 3, padding='same', activation='relu'))\n",
    "model.add(tf.keras.layers.BatchNormalization())\n",
    "model.add(tf.keras.layers.MaxPooling2D(pool_size=(2, 2)))\n",
    "model.add(tf.keras.layers.BatchNormalization())\n",
    "model.add(tf.keras.layers.Conv2D(128, 3, padding='same', activation='relu'))\n",
    "model.add(tf.keras.layers.BatchNormalization())\n",
    "model.add(tf.keras.layers.MaxPooling2D(pool_size=(2, 2)))\n",
    "model.add(tf.keras.layers.BatchNormalization())\n",
    "model.add(tf.keras.layers.Flatten())\n",
    "model.add(tf.keras.layers.Dense(256, activation='relu'))\n",
    "model.add(tf.keras.layers.BatchNormalization())\n",
    "model.add(tf.keras.layers.Dropout(0.5))\n",
    "model.add(tf.keras.layers.Dense(N_CLASSES, activation='softmax'))\n",
    "\n",
    "model.compile(optimizer='adam', loss='sparse_categorical_crossentropy', metrics=['accuracy'])\n",
    "model.summary()\n"
   ]
  },
  {
   "cell_type": "code",
   "execution_count": 40,
   "metadata": {
    "colab": {
     "base_uri": "https://localhost:8080/",
     "height": 430
    },
    "id": "HRnQKtzgsLmn",
    "outputId": "75d30ec3-23d1-46de-ef9d-7e12c8865a39"
   },
   "outputs": [
    {
     "name": "stdout",
     "output_type": "stream",
     "text": [
      "Epoch 1/15\n",
      "66/66 [==============================] - 3s 40ms/step - loss: 1.5489 - accuracy: 0.5257 - val_loss: 7.1324 - val_accuracy: 0.1549\n",
      "Epoch 2/15\n",
      "66/66 [==============================] - 3s 40ms/step - loss: 0.4458 - accuracy: 0.8629 - val_loss: 6.4247 - val_accuracy: 0.1292\n",
      "Epoch 3/15\n",
      "66/66 [==============================] - 3s 41ms/step - loss: 0.2591 - accuracy: 0.9214 - val_loss: 3.6412 - val_accuracy: 0.2810\n",
      "Epoch 4/15\n",
      "66/66 [==============================] - 3s 42ms/step - loss: 0.1947 - accuracy: 0.9490 - val_loss: 1.0744 - val_accuracy: 0.7810\n",
      "Epoch 5/15\n",
      "66/66 [==============================] - 3s 42ms/step - loss: 0.1413 - accuracy: 0.9619 - val_loss: 0.3380 - val_accuracy: 0.9021\n",
      "Epoch 6/15\n",
      "66/66 [==============================] - 3s 41ms/step - loss: 0.0944 - accuracy: 0.9767 - val_loss: 0.5955 - val_accuracy: 0.8146\n",
      "Epoch 7/15\n",
      "66/66 [==============================] - 3s 42ms/step - loss: 0.0760 - accuracy: 0.9838 - val_loss: 0.1669 - val_accuracy: 0.9542\n",
      "Epoch 8/15\n",
      "66/66 [==============================] - 3s 40ms/step - loss: 0.0646 - accuracy: 0.9867 - val_loss: 0.3002 - val_accuracy: 0.9204\n",
      "Epoch 9/15\n",
      "66/66 [==============================] - 3s 39ms/step - loss: 0.0550 - accuracy: 0.9890 - val_loss: 0.2146 - val_accuracy: 0.9312\n",
      "Epoch 9: early stopping\n"
     ]
    }
   ],
   "source": [
    "epochs = 15\n",
    "early_stopping = EarlyStopping(monitor='val_loss', patience=2, min_delta=0.01, mode='min', verbose=1)\n",
    "history = model.fit(train_dataset, epochs=epochs, validation_data=valid_dataset, callbacks=[early_stopping])"
   ]
  },
  {
   "cell_type": "code",
   "execution_count": 6,
   "metadata": {
    "id": "_av8le93YJ-e"
   },
   "outputs": [],
   "source": [
    "# # Plot the loss curves for training and validation.\n",
    "# history_dict = history.history\n",
    "# loss_values = history_dict['loss']\n",
    "# val_loss_values = history_dict['val_loss']\n",
    "# epochs = range(1, len(loss_values)+1)\n",
    "\n",
    "# plt.figure(figsize=(8,6))\n",
    "# plt.plot(epochs, loss_values, 'bo', label='Training loss')\n",
    "# plt.plot(epochs, val_loss_values, 'b', label='Validation loss')\n",
    "# plt.title('Training and validation loss')\n",
    "# plt.xlabel('Epochs')\n",
    "# plt.ylabel('Loss')\n",
    "# plt.legend()\n",
    "# plt.show()"
   ]
  },
  {
   "cell_type": "code",
   "execution_count": 7,
   "metadata": {
    "id": "3eIksM-aYJ-f"
   },
   "outputs": [],
   "source": [
    "# # Plot the accuracy curves for training and validation.\n",
    "# acc_values = history_dict['accuracy']\n",
    "# val_acc_values = history_dict['val_accuracy']\n",
    "# epochs = range(1, len(acc_values)+1)\n",
    "\n",
    "# plt.figure(figsize=(8,6))\n",
    "# plt.plot(epochs, acc_values, 'bo', label='Training accuracy')\n",
    "# plt.plot(epochs, val_acc_values, 'b', label='Validation accuracy')\n",
    "# plt.title('Training and validation accuracy')\n",
    "# plt.xlabel('Epochs')\n",
    "# plt.ylabel('Accuracy')\n",
    "# plt.legend()\n",
    "# plt.show()"
   ]
  },
  {
   "cell_type": "code",
   "execution_count": 8,
   "metadata": {
    "id": "5Nld1pXCYJ-g"
   },
   "outputs": [],
   "source": [
    "# # Compute the final loss and accuracy\n",
    "# final_loss, final_acc = model.evaluate(valid_dataset, verbose=0)\n",
    "# print(\"Final loss: {0:.6f}, final accuracy: {1:.6f}\".format(final_loss, final_acc))"
   ]
  },
  {
   "cell_type": "code",
   "execution_count": 9,
   "metadata": {
    "id": "APZLpfU9YJ-i"
   },
   "outputs": [],
   "source": [
    "# print(model.summary())"
   ]
  },
  {
   "cell_type": "code",
   "execution_count": 41,
   "metadata": {
    "id": "H4Y5vdN2YJ-i"
   },
   "outputs": [
    {
     "name": "stdout",
     "output_type": "stream",
     "text": [
      "Average time per sample:  0.012139908888888915\n",
      "Final loss: 0.206272, final accuracy: 0.942857\n"
     ]
    }
   ],
   "source": [
    "import time\n",
    "\n",
    "# Start the timer.\n",
    "t0 = time.process_time()\n",
    "\n",
    "\n",
    "final_loss, final_acc = model.evaluate(test_dataset, verbose=0)\n",
    "\n",
    "# Stop the timer.0\n",
    "t1 = time.process_time()\n",
    "\n",
    "# print((t1-t0), len(valid_dataset), 'batches')\n",
    "avg_time = (t1 - t0) / len(valid_dataset) / 30\n",
    "print(\"Average time per sample: \", avg_time)\n",
    "print(\"Final loss: {0:.6f}, final accuracy: {1:.6f}\".format(final_loss, final_acc))\n",
    "\n",
    "# penalty = ... # whatever, we'll find this out later.\n",
    "# adjusted_acc = final_acc / (1 + penalty * avg_time)\n",
    "\n",
    "# print(\"Time adjusted final accuracy: {1:.6f}\".format(adjusted_acc))"
   ]
  },
  {
   "cell_type": "markdown",
   "metadata": {
    "id": "FIsVro_fsLmp"
   },
   "source": [
    "5.33727300000001 15 batches\n",
    "Average time per batch:  0.3558182000000007\n",
    "Final loss: 0.291075, final accuracy: 0.900000 \\\n",
    "5.325380999999993 15 batches\n",
    "Average time per batch:  0.35502539999999955\n",
    "Final loss: 0.170305, final accuracy: 0.955357 \\\n",
    "5.40189300000003 15 batches\n",
    "Average time per batch:  0.36012620000000195\n",
    "Final loss: 0.292220, final accuracy: 0.928571 \\\n",
    "5.467108999999994 15 batches\n",
    "Average time per batch:  0.3644739333333329\n",
    "Final loss: 0.384134, final accuracy: 0.897321"
   ]
  },
  {
   "cell_type": "code",
   "execution_count": 42,
   "metadata": {},
   "outputs": [
    {
     "data": {
      "image/png": "[encoded data removed]",
      "text/plain": [
       "<Figure size 640x480 with 1 Axes>"
      ]
     },
     "metadata": {},
     "output_type": "display_data"
    }
   ],
   "source": [
    "import matplotlib.pyplot as plt\n",
    "import math\n",
    "times = [0.382, 0.372, 0.001835]\n",
    "for i in range(len(times)):\n",
    "    times[i] *= 1000\n",
    "accuracies = [0.1738, 0.89, 0.693]\n",
    "labels = ['baseline', 'CNN', 'handcrated']\n",
    "\n",
    "plt.scatter(times, accuracies, color='blue')\n",
    "for i in range(len(times)):\n",
    "    plt.text(times[i], accuracies[i], labels[i], fontsize=9, ha='right')\n",
    "\n",
    "plt.title('Time vs Accuracy')\n",
    "plt.xlabel('Time (ms)')\n",
    "plt.ylabel('Accuracy')\n",
    "\n",
    "plt.show()"
   ]
  },
  {
   "cell_type": "code",
   "execution_count": 45,
   "metadata": {},
   "outputs": [
    {
     "data": {
      "image/png": "[encoded data removed]",
      "text/plain": [
       "<Figure size 640x480 with 1 Axes>"
      ]
     },
     "metadata": {},
     "output_type": "display_data"
    }
   ],
   "source": [
    "times = [2.2, 1.2]\n",
    "accuracies = [0.1738, 0.89]\n",
    "labels = ['baseline', 'CNN']\n",
    "\n",
    "plt.scatter(times, accuracies, color='blue')\n",
    "for i in range(len(times)):\n",
    "    plt.text(times[i], accuracies[i], labels[i], fontsize=9, ha='right')\n",
    "\n",
    "plt.title('Time vs Accuracy (CNN)')\n",
    "plt.xlabel('Time (ms)')\n",
    "plt.ylabel('Accuracy')\n",
    "\n",
    "plt.show()"
   ]
  },
  {
   "cell_type": "code",
   "execution_count": 1,
   "metadata": {},
   "outputs": [
    {
     "ename": "NameError",
     "evalue": "name 'plt' is not defined",
     "output_type": "error",
     "traceback": [
      "\u001b[0;31m---------------------------------------------------------------------------\u001b[0m",
      "\u001b[0;31mNameError\u001b[0m                                 Traceback (most recent call last)",
      "Cell \u001b[0;32mIn[1], line 5\u001b[0m\n\u001b[1;32m      3\u001b[0m labels \u001b[38;5;241m=\u001b[39m [\u001b[38;5;124m'\u001b[39m\u001b[38;5;124mbaseline\u001b[39m\u001b[38;5;124m'\u001b[39m, \u001b[38;5;124m'\u001b[39m\u001b[38;5;124mCNN\u001b[39m\u001b[38;5;124m'\u001b[39m, \u001b[38;5;124m'\u001b[39m\u001b[38;5;124mhandcrated\u001b[39m\u001b[38;5;124m'\u001b[39m]\n\u001b[1;32m      4\u001b[0m \u001b[38;5;66;03m# Creating the scatter plot\u001b[39;00m\n\u001b[0;32m----> 5\u001b[0m \u001b[43mplt\u001b[49m\u001b[38;5;241m.\u001b[39mscatter(parameters, accuracies, color\u001b[38;5;241m=\u001b[39m\u001b[38;5;124m'\u001b[39m\u001b[38;5;124mblue\u001b[39m\u001b[38;5;124m'\u001b[39m)\n\u001b[1;32m      6\u001b[0m \u001b[38;5;28;01mfor\u001b[39;00m i \u001b[38;5;129;01min\u001b[39;00m \u001b[38;5;28mrange\u001b[39m(\u001b[38;5;28mlen\u001b[39m(parameters)):\n\u001b[1;32m      7\u001b[0m     plt\u001b[38;5;241m.\u001b[39mtext(parameters[i], accuracies[i], labels[i], fontsize\u001b[38;5;241m=\u001b[39m\u001b[38;5;241m9\u001b[39m, ha\u001b[38;5;241m=\u001b[39m\u001b[38;5;124m'\u001b[39m\u001b[38;5;124mright\u001b[39m\u001b[38;5;124m'\u001b[39m)\n",
      "\u001b[0;31mNameError\u001b[0m: name 'plt' is not defined"
     ]
    }
   ],
   "source": [
    "parameters = [8487498, 622602, 243000]\n",
    "accuracies = [0.1738, 0.93, 0.693]\n",
    "labels = ['baseline', 'CNN', 'handcrated']\n",
    "# Creating the scatter plot\n",
    "plt.scatter(parameters, accuracies, color='blue')\n",
    "for i in range(len(parameters)):\n",
    "    plt.text(parameters[i], accuracies[i], labels[i], fontsize=9, ha='right')\n",
    "# Adding title and labels\n",
    "plt.title('Parameters vs Accuracy')\n",
    "plt.xlabel('Number of Parameters (Model)')\n",
    "plt.ylabel('Accuracy')\n",
    "# Show the plot\n",
    "plt.show()"
   ]
  },
  {
   "cell_type": "code",
   "execution_count": null,
   "metadata": {},
   "outputs": [],
   "source": []
  }
 ],
 "metadata": {
  "colab": {
   "provenance": []
  },
  "kernelspec": {
   "display_name": "Python 3 (ipykernel)",
   "language": "python",
   "name": "python3"
  },
  "language_info": {
   "codemirror_mode": {
    "name": "ipython",
    "version": 3
   },
   "file_extension": ".py",
   "mimetype": "text/x-python",
   "name": "python",
   "nbconvert_exporter": "python",
   "pygments_lexer": "ipython3",
   "version": "3.9.18"
  }
 },
 "nbformat": 4,
 "nbformat_minor": 4
}
