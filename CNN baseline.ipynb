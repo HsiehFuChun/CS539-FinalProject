{
 "cells": [
  {
   "cell_type": "code",
   "execution_count": 1,
   "metadata": {},
   "outputs": [],
   "source": [
    "import numpy as np\n",
    "import pandas as pd\n",
    "import tensorflow as tf\n",
    "import matplotlib.pyplot as plt\n",
    "import os\n",
    "import wave\n",
    "import pylab\n",
    "from pathlib import Path\n",
    "from scipy import signal\n",
    "from scipy.io import wavfile\n",
    "from sklearn.metrics import confusion_matrix\n",
    "import itertools \n",
    "from tensorflow.keras import Sequential\n",
    "from tensorflow.keras.layers import Conv2D, MaxPooling2D, Flatten, Dense\n",
    "\n",
    "INPUT_DIR = '/Users/fuchunhsieh/Desktop/Fall_2023/Comp_Sci_539/Project/free-spoken-digit-dataset-master/recordings'\n",
    "OUTPUT_DIR = '/Users/fuchunhsieh/Desktop/Fall_2023/Comp_Sci_539/Project'\n",
    "\n",
    "# list all the files and directories within a specified directory\n",
    "parent_list = os.listdir(INPUT_DIR)\n",
    "# print(len(parent_list)) # 6 speakers, 10 digits, 50 recordings for each digit\n",
    "# for i in range(10):\n",
    "#     print(parent_list[i])"
   ]
  },
  {
   "cell_type": "code",
   "execution_count": 2,
   "metadata": {},
   "outputs": [],
   "source": [
    "# for i in range(5): \n",
    "#     # wave.open open a .wav file\n",
    "#     signal_wave  = wave.open(os.path.join(INPUT_DIR, parent_list[i]), 'r') \n",
    "#     # sample rate: the number of audio sampls taken per second\n",
    "#     # setting a low num_frames can result in shorter audio clip\n",
    "#     # set to a higher value will result in read all that are available and remains fill with zero or silence\n",
    "#     # to get frames, here single_wave.fetnframes()\n",
    "#     sample_rate = 16000\n",
    "#     # print(signal_wave.readframes(sample_rate))\n",
    "#     sig = np.frombuffer(signal_wave.readframes(sample_rate), dtype=np.int16)\n",
    "#     print(sig.shape)\n",
    "#     plt.figure(figsize=(8,4))\n",
    "#     plot_a = plt.subplot(121)\n",
    "#     plot_a.set_title(parent_list[i])\n",
    "#     plot_a.plot(sig)\n",
    "#     plot_a.set_xlabel('sample rate * time')\n",
    "#     plot_a.set_ylabel('energy')\n",
    "\n",
    "#     plot_b = plt.subplot(122)\n",
    "#     plot_b.specgram(sig, NFFT=1024, Fs=sample_rate, noverlap=900)\n",
    "#     plot_b.set_xlabel('Time')\n",
    "#     plot_b.set_ylabel('Frequency')\n",
    "\n",
    "# plt.show()"
   ]
  },
  {
   "cell_type": "code",
   "execution_count": 3,
   "metadata": {},
   "outputs": [],
   "source": [
    "# def get_wav_info(wav_file):\n",
    "#     wav = wave.open(wav_file, 'r')\n",
    "#     frames = wav.readframes(-1)\n",
    "#     sound_info = np.frombuffer(frames, 'int16')\n",
    "#     frame_rate = wav.getframerate()\n",
    "#     wav.close()\n",
    "#     return sound_info, frame_rate\n",
    "# if not os.path.exists(os.path.join(OUTPUT_DIR, 'audio-images')):\n",
    "#     os.mkdir(os.path.join(OUTPUT_DIR, 'audio-images'))\n",
    "#     for filename in os.listdir(INPUT_DIR):\n",
    "#         if \"wav\" in filename:\n",
    "#             file_path = os.path.join(INPUT_DIR, filename)\n",
    "#             file_stem = Path(file_path).stem\n",
    "#             target_dir = f'class_{file_stem[0]}'\n",
    "#             dist_dir = os.path.join(OUTPUT_DIR, 'audio-images', target_dir)\n",
    "#             file_dist_path = os.path.join(dist_dir, file_stem)\n",
    "#             if not os.path.exists(dist_dir):\n",
    "#                 os.makedirs(dist_dir)\n",
    "#             if not os.path.exists(file_dist_path + '.png'):\n",
    "#                 file_stem = Path(file_path).stem\n",
    "#                 sound_info, frame_rate = get_wav_info(file_path)\n",
    "#                 pylab.specgram(sound_info, Fs = frame_rate)\n",
    "#                 pylab.savefig(f'{file_dist_path}.png')\n",
    "#                 pylab.close()\n",
    "# path_list = os.listdir(os.path.join(OUTPUT_DIR, 'audio-images'))\n",
    "# print(\"Classes: \\n\")\n",
    "# for i in range(10):\n",
    "#     print(path_list[i])\n",
    "    \n",
    "# path_list = os.listdir(os.path.join(OUTPUT_DIR, 'audio-images/class_1'))\n",
    "# print(\"\\nA few example files: \\n\")\n",
    "# for i in range(10):\n",
    "#     print(path_list[i])"
   ]
  },
  {
   "cell_type": "code",
   "execution_count": 4,
   "metadata": {},
   "outputs": [
    {
     "name": "stdout",
     "output_type": "stream",
     "text": [
      "Found 3000 files belonging to 10 classes.\n",
      "Using 2400 files for training.\n",
      "Metal device set to: Apple M1 Pro\n",
      "\n",
      "systemMemory: 16.00 GB\n",
      "maxCacheSize: 5.33 GB\n",
      "\n",
      "Found 3000 files belonging to 10 classes.\n",
      "Using 600 files for validation.\n"
     ]
    },
    {
     "name": "stderr",
     "output_type": "stream",
     "text": [
      "2023-11-18 01:48:02.193195: I tensorflow/core/common_runtime/pluggable_device/pluggable_device_factory.cc:305] Could not identify NUMA node of platform GPU ID 0, defaulting to 0. Your kernel may not have been built with NUMA support.\n",
      "2023-11-18 01:48:02.193589: I tensorflow/core/common_runtime/pluggable_device/pluggable_device_factory.cc:271] Created TensorFlow device (/job:localhost/replica:0/task:0/device:GPU:0 with 0 MB memory) -> physical PluggableDevice (device: 0, name: METAL, pci bus id: <undefined>)\n"
     ]
    }
   ],
   "source": [
    "IMAGE_HEIGHT = 256\n",
    "IMAGE_WIDTH = 256\n",
    "BATCH_SIZE = 32\n",
    "N_CHANNELS = 3\n",
    "N_CLASSES = 10\n",
    "\n",
    "train_dataset = tf.keras.preprocessing.image_dataset_from_directory(\n",
    "    batch_size = BATCH_SIZE,\n",
    "    validation_split = 0.2,\n",
    "    directory = os.path.join(OUTPUT_DIR, 'audio-images'),\n",
    "    shuffle = True,\n",
    "    color_mode = 'rgb',\n",
    "    image_size = (IMAGE_HEIGHT, IMAGE_WIDTH),\n",
    "    subset = \"training\",\n",
    "    seed = 0\n",
    ")\n",
    "\n",
    "valid_dataset = tf.keras.preprocessing.image_dataset_from_directory(\n",
    "    batch_size = BATCH_SIZE,\n",
    "    validation_split = 0.2,\n",
    "    directory = os.path.join(OUTPUT_DIR, 'audio-images'),\n",
    "    shuffle = True,\n",
    "    color_mode = 'rgb',\n",
    "    image_size = (IMAGE_HEIGHT, IMAGE_WIDTH),\n",
    "    subset = \"validation\",\n",
    "    seed = 0\n",
    ")"
   ]
  },
  {
   "cell_type": "code",
   "execution_count": 5,
   "metadata": {},
   "outputs": [],
   "source": [
    "# plt.figure(figsize=(12,12))\n",
    "# for images, labels in train_dataset.take(1):\n",
    "#     for i in range(9):\n",
    "#         ax = plt.subplot(3, 3, i+1)\n",
    "#         plt.imshow(images[i].numpy().astype(\"uint8\"))\n",
    "#         plt.title(int(labels[i]))\n",
    "#         plt.axis(\"off\")\n",
    "# plt.show()"
   ]
  },
  {
   "cell_type": "code",
   "execution_count": 6,
   "metadata": {},
   "outputs": [],
   "source": [
    "# def prepare(ds, augment=False):\n",
    "#     rescale = tf.keras.Sequential([tf.keras.layers.experimental.preprocessing.Rescaling(1./255)])\n",
    "#     flip_and_rotate = tf.keras.Sequential(\n",
    "#         [tf.keras.layers.experimental.preprocessing.RandomFlip(\"horizontal_and_vertical\"), \n",
    "#          tf.keras.layers.experimental.preprocessing.RandomRotation(0.2)])\n",
    "#     ds = ds.map(lambda x, y: (rescale(x, training=True), y))\n",
    "#     if augment: ds = ds.map(lambda x, y: (flip_and_rotate(x, training=True), y))\n",
    "#     return ds\n",
    "# train_dataset = prepare(train_dataset, augment=False)\n",
    "# valid_dataset = prepare(valid_dataset, augment=False)"
   ]
  },
  {
   "cell_type": "code",
   "execution_count": 7,
   "metadata": {},
   "outputs": [
    {
     "name": "stdout",
     "output_type": "stream",
     "text": [
      "Model: \"sequential\"\n",
      "_________________________________________________________________\n",
      " Layer (type)                Output Shape              Param #   \n",
      "=================================================================\n",
      " conv2d (Conv2D)             (None, 128, 128, 32)      896       \n",
      "                                                                 \n",
      " batch_normalization (BatchN  (None, 128, 128, 32)     128       \n",
      " ormalization)                                                   \n",
      "                                                                 \n",
      " max_pooling2d (MaxPooling2D  (None, 64, 64, 32)       0         \n",
      " )                                                               \n",
      "                                                                 \n",
      " batch_normalization_1 (Batc  (None, 64, 64, 32)       128       \n",
      " hNormalization)                                                 \n",
      "                                                                 \n",
      " conv2d_1 (Conv2D)           (None, 64, 64, 64)        18496     \n",
      "                                                                 \n",
      " batch_normalization_2 (Batc  (None, 64, 64, 64)       256       \n",
      " hNormalization)                                                 \n",
      "                                                                 \n",
      " max_pooling2d_1 (MaxPooling  (None, 32, 32, 64)       0         \n",
      " 2D)                                                             \n",
      "                                                                 \n",
      " batch_normalization_3 (Batc  (None, 32, 32, 64)       256       \n",
      " hNormalization)                                                 \n",
      "                                                                 \n",
      " conv2d_2 (Conv2D)           (None, 32, 32, 128)       73856     \n",
      "                                                                 \n",
      " batch_normalization_4 (Batc  (None, 32, 32, 128)      512       \n",
      " hNormalization)                                                 \n",
      "                                                                 \n",
      " max_pooling2d_2 (MaxPooling  (None, 16, 16, 128)      0         \n",
      " 2D)                                                             \n",
      "                                                                 \n",
      " batch_normalization_5 (Batc  (None, 16, 16, 128)      512       \n",
      " hNormalization)                                                 \n",
      "                                                                 \n",
      " flatten (Flatten)           (None, 32768)             0         \n",
      "                                                                 \n",
      " dense (Dense)               (None, 256)               8388864   \n",
      "                                                                 \n",
      " batch_normalization_6 (Batc  (None, 256)              1024      \n",
      " hNormalization)                                                 \n",
      "                                                                 \n",
      " dropout (Dropout)           (None, 256)               0         \n",
      "                                                                 \n",
      " dense_1 (Dense)             (None, 10)                2570      \n",
      "                                                                 \n",
      "=================================================================\n",
      "Total params: 8,487,498\n",
      "Trainable params: 8,486,090\n",
      "Non-trainable params: 1,408\n",
      "_________________________________________________________________\n",
      "Epoch 1/10\n"
     ]
    },
    {
     "name": "stderr",
     "output_type": "stream",
     "text": [
      "2023-11-18 01:48:02.828177: W tensorflow/core/platform/profile_utils/cpu_utils.cc:128] Failed to get CPU frequency: 0 Hz\n",
      "2023-11-18 01:48:02.832158: I tensorflow/core/grappler/optimizers/custom_graph_optimizer_registry.cc:113] Plugin optimizer for device_type GPU is enabled.\n"
     ]
    },
    {
     "name": "stdout",
     "output_type": "stream",
     "text": [
      "75/75 [==============================] - ETA: 0s - loss: 0.6733 - accuracy: 0.8004"
     ]
    },
    {
     "name": "stderr",
     "output_type": "stream",
     "text": [
      "2023-11-18 01:48:07.643159: I tensorflow/core/grappler/optimizers/custom_graph_optimizer_registry.cc:113] Plugin optimizer for device_type GPU is enabled.\n"
     ]
    },
    {
     "name": "stdout",
     "output_type": "stream",
     "text": [
      "75/75 [==============================] - 6s 65ms/step - loss: 0.6733 - accuracy: 0.8004 - val_loss: 4.8314 - val_accuracy: 0.1400\n",
      "Epoch 2/10\n",
      "75/75 [==============================] - 5s 62ms/step - loss: 0.1878 - accuracy: 0.9504 - val_loss: 0.3188 - val_accuracy: 0.9117\n",
      "Epoch 3/10\n",
      "75/75 [==============================] - 5s 62ms/step - loss: 0.0914 - accuracy: 0.9754 - val_loss: 0.3075 - val_accuracy: 0.9033\n",
      "Epoch 4/10\n",
      "75/75 [==============================] - 5s 63ms/step - loss: 0.0782 - accuracy: 0.9837 - val_loss: 0.1898 - val_accuracy: 0.9483\n",
      "Epoch 5/10\n",
      "75/75 [==============================] - 5s 62ms/step - loss: 0.0552 - accuracy: 0.9887 - val_loss: 0.5867 - val_accuracy: 0.8083\n",
      "Epoch 6/10\n",
      "75/75 [==============================] - 5s 63ms/step - loss: 0.0292 - accuracy: 0.9958 - val_loss: 0.1400 - val_accuracy: 0.9583\n",
      "Epoch 7/10\n",
      "75/75 [==============================] - 5s 64ms/step - loss: 0.0119 - accuracy: 0.9996 - val_loss: 0.1059 - val_accuracy: 0.9750\n",
      "Epoch 8/10\n",
      "75/75 [==============================] - 5s 63ms/step - loss: 0.0125 - accuracy: 0.9983 - val_loss: 0.1337 - val_accuracy: 0.9567\n",
      "Epoch 9/10\n",
      "75/75 [==============================] - 5s 63ms/step - loss: 0.0110 - accuracy: 0.9992 - val_loss: 0.0777 - val_accuracy: 0.9750\n",
      "Epoch 10/10\n",
      "75/75 [==============================] - 5s 62ms/step - loss: 0.0077 - accuracy: 0.9996 - val_loss: 0.0739 - val_accuracy: 0.9767\n"
     ]
    }
   ],
   "source": [
    "model = tf.keras.models.Sequential()\n",
    "model.add(tf.keras.layers.Input(shape=(IMAGE_HEIGHT, IMAGE_WIDTH, N_CHANNELS)))\n",
    "model.add(tf.keras.layers.Conv2D(32, 3, strides=2, padding='same', activation='relu'))\n",
    "model.add(tf.keras.layers.BatchNormalization())\n",
    "model.add(tf.keras.layers.MaxPooling2D(pool_size=(2, 2)))\n",
    "model.add(tf.keras.layers.BatchNormalization())\n",
    "model.add(tf.keras.layers.Conv2D(64, 3, padding='same', activation='relu'))\n",
    "model.add(tf.keras.layers.BatchNormalization())\n",
    "model.add(tf.keras.layers.MaxPooling2D(pool_size=(2, 2)))\n",
    "model.add(tf.keras.layers.BatchNormalization())\n",
    "model.add(tf.keras.layers.Conv2D(128, 3, padding='same', activation='relu'))\n",
    "model.add(tf.keras.layers.BatchNormalization())\n",
    "model.add(tf.keras.layers.MaxPooling2D(pool_size=(2, 2)))\n",
    "model.add(tf.keras.layers.BatchNormalization())\n",
    "model.add(tf.keras.layers.Flatten())\n",
    "model.add(tf.keras.layers.Dense(256, activation='relu'))\n",
    "model.add(tf.keras.layers.BatchNormalization())\n",
    "model.add(tf.keras.layers.Dropout(0.5))\n",
    "model.add(tf.keras.layers.Dense(N_CLASSES, activation='softmax'))\n",
    "\n",
    "model.compile(optimizer='adam', loss='sparse_categorical_crossentropy', metrics=['accuracy'])\n",
    "model.summary()\n",
    "history = model.fit(train_dataset, epochs=10, validation_data=valid_dataset)"
   ]
  },
  {
   "cell_type": "code",
   "execution_count": 8,
   "metadata": {},
   "outputs": [],
   "source": [
    "# model = tf.keras.models.Sequential()\n",
    "# model.add(tf.keras.layers.Input(shape=(IMAGE_HEIGHT, IMAGE_WIDTH, N_CHANNELS)))\n",
    "# model.add(tf.keras.layers.Conv2D(32, 3, strides=2, padding='same', activation='relu'))\n",
    "# model.add(tf.keras.layers.BatchNormalization())\n",
    "# model.add(tf.keras.layers.MaxPooling2D(pool_size=(2, 2)))\n",
    "# model.add(tf.keras.layers.BatchNormalization())\n",
    "# model.add(tf.keras.layers.Conv2D(64, 3, padding='same', activation='relu'))\n",
    "# model.add(tf.keras.layers.BatchNormalization())\n",
    "# model.add(tf.keras.layers.MaxPooling2D(pool_size=(2, 2)))\n",
    "# model.add(tf.keras.layers.BatchNormalization())\n",
    "# model.add(tf.keras.layers.Conv2D(128, 3, padding='same', activation='relu'))\n",
    "# model.add(tf.keras.layers.BatchNormalization())\n",
    "# model.add(tf.keras.layers.MaxPooling2D(pool_size=(2, 2)))\n",
    "# model.add(tf.keras.layers.BatchNormalization())\n",
    "# model.add(tf.keras.layers.Flatten())\n",
    "# model.add(tf.keras.layers.Dense(256, activation='relu'))\n",
    "# model.add(tf.keras.layers.BatchNormalization())\n",
    "# model.add(tf.keras.layers.Dropout(0.5))\n",
    "# model.add(tf.keras.layers.Dense(N_CLASSES, activation='softmax'))\n",
    "\n",
    "# # Compile model\n",
    "# model.compile(\n",
    "#     loss='sparse_categorical_crossentropy',\n",
    "#     optimizer=tf.keras.optimizers.RMSprop(),\n",
    "#     metrics=['accuracy'],\n",
    "# )\n",
    "\n",
    "# # Train model for 10 epochs, capture the history"
   ]
  },
  {
   "cell_type": "code",
   "execution_count": 9,
   "metadata": {},
   "outputs": [
    {
     "data": {
      "image/png": "[encoded data removed]",
      "text/plain": [
       "<Figure size 800x600 with 1 Axes>"
      ]
     },
     "metadata": {},
     "output_type": "display_data"
    }
   ],
   "source": [
    "# Plot the loss curves for training and validation.\n",
    "history_dict = history.history\n",
    "loss_values = history_dict['loss']\n",
    "val_loss_values = history_dict['val_loss']\n",
    "epochs = range(1, len(loss_values)+1)\n",
    "\n",
    "plt.figure(figsize=(8,6))\n",
    "plt.plot(epochs, loss_values, 'bo', label='Training loss')\n",
    "plt.plot(epochs, val_loss_values, 'b', label='Validation loss')\n",
    "plt.title('Training and validation loss')\n",
    "plt.xlabel('Epochs')\n",
    "plt.ylabel('Loss')\n",
    "plt.legend()\n",
    "plt.show()"
   ]
  },
  {
   "cell_type": "code",
   "execution_count": 10,
   "metadata": {},
   "outputs": [
    {
     "data": {
      "image/png": "[encoded data removed]",
      "text/plain": [
       "<Figure size 800x600 with 1 Axes>"
      ]
     },
     "metadata": {},
     "output_type": "display_data"
    }
   ],
   "source": [
    "# Plot the accuracy curves for training and validation.\n",
    "acc_values = history_dict['accuracy']\n",
    "val_acc_values = history_dict['val_accuracy']\n",
    "epochs = range(1, len(acc_values)+1)\n",
    "\n",
    "plt.figure(figsize=(8,6))\n",
    "plt.plot(epochs, acc_values, 'bo', label='Training accuracy')\n",
    "plt.plot(epochs, val_acc_values, 'b', label='Validation accuracy')\n",
    "plt.title('Training and validation accuracy')\n",
    "plt.xlabel('Epochs')\n",
    "plt.ylabel('Accuracy')\n",
    "plt.legend()\n",
    "plt.show()"
   ]
  },
  {
   "cell_type": "code",
   "execution_count": 11,
   "metadata": {},
   "outputs": [
    {
     "name": "stdout",
     "output_type": "stream",
     "text": [
      "Final loss: 0.073901, final accuracy: 0.976667\n"
     ]
    }
   ],
   "source": [
    "# Compute the final loss and accuracy\n",
    "final_loss, final_acc = model.evaluate(valid_dataset, verbose=0)\n",
    "print(\"Final loss: {0:.6f}, final accuracy: {1:.6f}\".format(final_loss, final_acc))"
   ]
  },
  {
   "cell_type": "code",
   "execution_count": 12,
   "metadata": {},
   "outputs": [
    {
     "name": "stdout",
     "output_type": "stream",
     "text": [
      "Model: \"sequential\"\n",
      "_________________________________________________________________\n",
      " Layer (type)                Output Shape              Param #   \n",
      "=================================================================\n",
      " conv2d (Conv2D)             (None, 128, 128, 32)      896       \n",
      "                                                                 \n",
      " batch_normalization (BatchN  (None, 128, 128, 32)     128       \n",
      " ormalization)                                                   \n",
      "                                                                 \n",
      " max_pooling2d (MaxPooling2D  (None, 64, 64, 32)       0         \n",
      " )                                                               \n",
      "                                                                 \n",
      " batch_normalization_1 (Batc  (None, 64, 64, 32)       128       \n",
      " hNormalization)                                                 \n",
      "                                                                 \n",
      " conv2d_1 (Conv2D)           (None, 64, 64, 64)        18496     \n",
      "                                                                 \n",
      " batch_normalization_2 (Batc  (None, 64, 64, 64)       256       \n",
      " hNormalization)                                                 \n",
      "                                                                 \n",
      " max_pooling2d_1 (MaxPooling  (None, 32, 32, 64)       0         \n",
      " 2D)                                                             \n",
      "                                                                 \n",
      " batch_normalization_3 (Batc  (None, 32, 32, 64)       256       \n",
      " hNormalization)                                                 \n",
      "                                                                 \n",
      " conv2d_2 (Conv2D)           (None, 32, 32, 128)       73856     \n",
      "                                                                 \n",
      " batch_normalization_4 (Batc  (None, 32, 32, 128)      512       \n",
      " hNormalization)                                                 \n",
      "                                                                 \n",
      " max_pooling2d_2 (MaxPooling  (None, 16, 16, 128)      0         \n",
      " 2D)                                                             \n",
      "                                                                 \n",
      " batch_normalization_5 (Batc  (None, 16, 16, 128)      512       \n",
      " hNormalization)                                                 \n",
      "                                                                 \n",
      " flatten (Flatten)           (None, 32768)             0         \n",
      "                                                                 \n",
      " dense (Dense)               (None, 256)               8388864   \n",
      "                                                                 \n",
      " batch_normalization_6 (Batc  (None, 256)              1024      \n",
      " hNormalization)                                                 \n",
      "                                                                 \n",
      " dropout (Dropout)           (None, 256)               0         \n",
      "                                                                 \n",
      " dense_1 (Dense)             (None, 10)                2570      \n",
      "                                                                 \n",
      "=================================================================\n",
      "Total params: 8,487,498\n",
      "Trainable params: 8,486,090\n",
      "Non-trainable params: 1,408\n",
      "_________________________________________________________________\n",
      "None\n"
     ]
    }
   ],
   "source": [
    "print(model.summary())"
   ]
  },
  {
   "cell_type": "code",
   "execution_count": null,
   "metadata": {},
   "outputs": [],
   "source": []
  }
 ],
 "metadata": {
  "kernelspec": {
   "display_name": "Python 3 (ipykernel)",
   "language": "python",
   "name": "python3"
  },
  "language_info": {
   "codemirror_mode": {
    "name": "ipython",
    "version": 3
   },
   "file_extension": ".py",
   "mimetype": "text/x-python",
   "name": "python",
   "nbconvert_exporter": "python",
   "pygments_lexer": "ipython3",
   "version": "3.9.18"
  }
 },
 "nbformat": 4,
 "nbformat_minor": 4
}
