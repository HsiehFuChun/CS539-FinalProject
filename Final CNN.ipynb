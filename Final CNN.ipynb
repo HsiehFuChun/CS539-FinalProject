{
 "cells": [
  {
   "cell_type": "code",
   "execution_count": 1,
   "metadata": {
    "colab": {
     "base_uri": "https://localhost:8080/"
    },
    "id": "ACiESaD8YJ-W",
    "outputId": "e3effc96-1a07-41cc-c5f4-741d66328206"
   },
   "outputs": [],
   "source": [
    "import numpy as np\n",
    "import pandas as pd\n",
    "import tensorflow as tf\n",
    "import matplotlib.pyplot as plt\n",
    "import os\n",
    "import wave\n",
    "import pylab\n",
    "from pathlib import Path\n",
    "from scipy import signal\n",
    "from scipy.io import wavfile\n",
    "from sklearn.metrics import confusion_matrix\n",
    "import itertools\n",
    "from tensorflow.keras import Sequential\n",
    "from tensorflow.keras.layers import Conv2D, MaxPooling2D, Flatten, Dense\n",
    "from tensorflow.keras.callbacks import EarlyStopping\n",
    "import time\n",
    "INPUT_DIR = '/Users/fuchunhsieh/Desktop/Fall_2023/Comp_Sci_539/Project/free-spoken-digit-dataset-master/recordings'\n",
    "OUTPUT_DIR = '/Users/fuchunhsieh/Desktop/Fall_2023/Comp_Sci_539/Project'\n",
    "\n",
    "# list all the files and directories within a specified directory\n",
    "# parent_list = os.listdir(INPUT_DIR)\n",
    "# print(len(parent_list)) # 6 speakers, 10 digits, 50 recordings for each digit\n",
    "# for i in range(10):\n",
    "#     print(parent_list[i])"
   ]
  },
  {
   "cell_type": "markdown",
   "metadata": {},
   "source": [
    "# Convert audio files to image files"
   ]
  },
  {
   "cell_type": "code",
   "execution_count": 2,
   "metadata": {
    "colab": {
     "base_uri": "https://localhost:8080/"
    },
    "id": "9Z9ksGe1t3oI",
    "outputId": "7782b35d-6bf7-4a1b-8c11-43e21c6e619f"
   },
   "outputs": [],
   "source": [
    "# only need to do once, convert audio file to images\n",
    "t_process_0 = time.process_time()\n",
    "def get_wav_info(wav_file):\n",
    "    wav = wave.open(wav_file, 'r')\n",
    "    frames = wav.readframes(-1)\n",
    "    sound_info = np.frombuffer(frames, 'int16')\n",
    "    frame_rate = wav.getframerate()\n",
    "    wav.close()\n",
    "    return sound_info, frame_rate\n",
    "if not os.path.exists(os.path.join(OUTPUT_DIR, 'audio-images')):\n",
    "    os.mkdir(os.path.join(OUTPUT_DIR, 'audio-images'))\n",
    "    for filename in os.listdir(INPUT_DIR):\n",
    "        if \"wav\" in filename:\n",
    "            file_path = os.path.join(INPUT_DIR, filename)\n",
    "            file_stem = Path(file_path).stem\n",
    "            target_dir = f'class_{file_stem[0]}'\n",
    "            dist_dir = os.path.join(OUTPUT_DIR, 'audio-images', target_dir)\n",
    "            file_dist_path = os.path.join(dist_dir, file_stem)\n",
    "            if not os.path.exists(dist_dir):\n",
    "                os.makedirs(dist_dir)\n",
    "            if not os.path.exists(file_dist_path + '.png'):\n",
    "                file_stem = Path(file_path).stem\n",
    "                sound_info, frame_rate = get_wav_info(file_path)\n",
    "                pylab.specgram(sound_info, Fs = frame_rate)\n",
    "                plt.axis('off')\n",
    "                pylab.savefig(f'{file_dist_path}.png')\n",
    "                pylab.close()\n",
    "path_list = os.listdir(os.path.join(OUTPUT_DIR, 'audio-images'))\n",
    "# print(\"Classes: \\n\")\n",
    "# for i in range(10):\n",
    "#     print(path_list[i])\n",
    "\n",
    "# path_list = os.listdir(os.path.join(OUTPUT_DIR, 'audio-images/class_1'))\n",
    "# print(\"\\nA few example files: \\n\")\n",
    "# for i in range(10):\n",
    "#     print(path_list[i])\n",
    "t_process_1 = time.process_time()\n",
    "# print(t_process_1-t_process_0)"
   ]
  },
  {
   "cell_type": "markdown",
   "metadata": {},
   "source": [
    "image process time 989.6 \\\n",
    "average time per sample to process = 0.33 (s)"
   ]
  },
  {
   "cell_type": "markdown",
   "metadata": {
    "id": "8IIasxjxsxgC"
   },
   "source": [
    "# Load and Process Data\n"
   ]
  },
  {
   "cell_type": "code",
   "execution_count": 3,
   "metadata": {
    "colab": {
     "base_uri": "https://localhost:8080/"
    },
    "id": "RxqGtOzjYJ-Z",
    "outputId": "029fe361-dcf5-450c-8fe2-bf2f3fe56e40"
   },
   "outputs": [
    {
     "name": "stdout",
     "output_type": "stream",
     "text": [
      "Found 3000 files belonging to 10 classes.\n",
      "Using 2100 files for training.\n",
      "Found 3000 files belonging to 10 classes.\n",
      "Using 900 files for validation.\n",
      "validation dataset is further split into 50/50 test/valid dataset \n",
      "\n",
      "batch size: 32\n",
      "train_dataset batch numbers: 66\n",
      "valid_dataset batch numbers: 15\n",
      "test_dataset batch numbers: 14\n"
     ]
    }
   ],
   "source": [
    "IMAGE_HEIGHT = 64\n",
    "IMAGE_WIDTH = 64\n",
    "BATCH_SIZE = 32\n",
    "N_CHANNELS = 1\n",
    "N_CLASSES = 10\n",
    "\n",
    "directory = os.path.join(OUTPUT_DIR, 'audio-images')\n",
    "train_dataset = tf.keras.preprocessing.image_dataset_from_directory(\n",
    "    batch_size = BATCH_SIZE,\n",
    "    validation_split = 0.3,\n",
    "    directory=directory,\n",
    "    shuffle = True,\n",
    "    color_mode = 'grayscale',\n",
    "    image_size = (IMAGE_HEIGHT, IMAGE_WIDTH),\n",
    "    subset = \"training\",\n",
    "    seed = 42\n",
    ")\n",
    "\n",
    "valid_dataset = tf.keras.preprocessing.image_dataset_from_directory(\n",
    "    batch_size = BATCH_SIZE,\n",
    "    validation_split = 0.3,\n",
    "    directory=directory,\n",
    "    shuffle = True,\n",
    "    color_mode = 'grayscale',\n",
    "    image_size = (IMAGE_HEIGHT, IMAGE_WIDTH),\n",
    "    subset = \"validation\",\n",
    "    seed = 42\n",
    ")\n",
    "\n",
    "def split_dataset(dataset, split_fraction=0.5):\n",
    "  dataset_size = len(dataset)\n",
    "  split_size = int(dataset_size * split_fraction)\n",
    "  # dataset = dataset.shuffle(buffer_size=dataset_size)\n",
    "  return dataset.take(split_size), dataset.skip(split_size)\n",
    "\n",
    "test_dataset, valid_dataset = split_dataset(valid_dataset, split_fraction=0.5)\n",
    "print('validation dataset is further split into 50/50 test/valid dataset', '\\n')\n",
    "print('batch size:', BATCH_SIZE)\n",
    "print('train_dataset batch numbers:', len(train_dataset))\n",
    "print('valid_dataset batch numbers:', len(valid_dataset))\n",
    "print('test_dataset batch numbers:', len(test_dataset))"
   ]
  },
  {
   "cell_type": "markdown",
   "metadata": {
    "id": "bvyUbqirtaGF"
   },
   "source": [
    "# CNN Model"
   ]
  },
  {
   "cell_type": "code",
   "execution_count": 4,
   "metadata": {
    "colab": {
     "base_uri": "https://localhost:8080/"
    },
    "id": "XLvDNyUGYJ-c",
    "outputId": "8d4bfae9-bfe6-4b09-ff27-1082e1386d7a"
   },
   "outputs": [
    {
     "name": "stdout",
     "output_type": "stream",
     "text": [
      "Model: \"sequential\"\n",
      "_________________________________________________________________\n",
      " Layer (type)                Output Shape              Param #   \n",
      "=================================================================\n",
      " conv2d (Conv2D)             (None, 32, 32, 32)        320       \n",
      "                                                                 \n",
      " batch_normalization (Batch  (None, 32, 32, 32)        128       \n",
      " Normalization)                                                  \n",
      "                                                                 \n",
      " max_pooling2d (MaxPooling2  (None, 16, 16, 32)        0         \n",
      " D)                                                              \n",
      "                                                                 \n",
      " batch_normalization_1 (Bat  (None, 16, 16, 32)        128       \n",
      " chNormalization)                                                \n",
      "                                                                 \n",
      " conv2d_1 (Conv2D)           (None, 16, 16, 64)        18496     \n",
      "                                                                 \n",
      " batch_normalization_2 (Bat  (None, 16, 16, 64)        256       \n",
      " chNormalization)                                                \n",
      "                                                                 \n",
      " max_pooling2d_1 (MaxPoolin  (None, 8, 8, 64)          0         \n",
      " g2D)                                                            \n",
      "                                                                 \n",
      " batch_normalization_3 (Bat  (None, 8, 8, 64)          256       \n",
      " chNormalization)                                                \n",
      "                                                                 \n",
      " conv2d_2 (Conv2D)           (None, 8, 8, 128)         73856     \n",
      "                                                                 \n",
      " batch_normalization_4 (Bat  (None, 8, 8, 128)         512       \n",
      " chNormalization)                                                \n",
      "                                                                 \n",
      " max_pooling2d_2 (MaxPoolin  (None, 4, 4, 128)         0         \n",
      " g2D)                                                            \n",
      "                                                                 \n",
      " batch_normalization_5 (Bat  (None, 4, 4, 128)         512       \n",
      " chNormalization)                                                \n",
      "                                                                 \n",
      " flatten (Flatten)           (None, 2048)              0         \n",
      "                                                                 \n",
      " dense (Dense)               (None, 256)               524544    \n",
      "                                                                 \n",
      " batch_normalization_6 (Bat  (None, 256)               1024      \n",
      " chNormalization)                                                \n",
      "                                                                 \n",
      " dropout (Dropout)           (None, 256)               0         \n",
      "                                                                 \n",
      " dense_1 (Dense)             (None, 10)                2570      \n",
      "                                                                 \n",
      "=================================================================\n",
      "Total params: 622602 (2.38 MB)\n",
      "Trainable params: 621194 (2.37 MB)\n",
      "Non-trainable params: 1408 (5.50 KB)\n",
      "_________________________________________________________________\n"
     ]
    }
   ],
   "source": [
    "model = tf.keras.models.Sequential()\n",
    "model.add(tf.keras.layers.Input(shape=(IMAGE_HEIGHT, IMAGE_WIDTH, N_CHANNELS)))\n",
    "model.add(tf.keras.layers.Conv2D(32, 3, strides=2, padding='same', activation='relu'))\n",
    "model.add(tf.keras.layers.BatchNormalization())\n",
    "model.add(tf.keras.layers.MaxPooling2D(pool_size=(2, 2)))\n",
    "model.add(tf.keras.layers.BatchNormalization())\n",
    "model.add(tf.keras.layers.Conv2D(64, 3, padding='same', activation='relu'))\n",
    "model.add(tf.keras.layers.BatchNormalization())\n",
    "model.add(tf.keras.layers.MaxPooling2D(pool_size=(2, 2)))\n",
    "model.add(tf.keras.layers.BatchNormalization())\n",
    "model.add(tf.keras.layers.Conv2D(128, 3, padding='same', activation='relu'))\n",
    "model.add(tf.keras.layers.BatchNormalization())\n",
    "model.add(tf.keras.layers.MaxPooling2D(pool_size=(2, 2)))\n",
    "model.add(tf.keras.layers.BatchNormalization())\n",
    "model.add(tf.keras.layers.Flatten())\n",
    "model.add(tf.keras.layers.Dense(256, activation='relu'))\n",
    "model.add(tf.keras.layers.BatchNormalization())\n",
    "model.add(tf.keras.layers.Dropout(0.5))\n",
    "model.add(tf.keras.layers.Dense(N_CLASSES, activation='softmax'))\n",
    "\n",
    "model.compile(optimizer='adam', loss='sparse_categorical_crossentropy', metrics=['accuracy'])\n",
    "model.summary()\n"
   ]
  },
  {
   "cell_type": "code",
   "execution_count": 5,
   "metadata": {
    "colab": {
     "base_uri": "https://localhost:8080/",
     "height": 430
    },
    "id": "HRnQKtzgsLmn",
    "outputId": "75d30ec3-23d1-46de-ef9d-7e12c8865a39"
   },
   "outputs": [
    {
     "name": "stdout",
     "output_type": "stream",
     "text": [
      "Epoch 1/15\n",
      "66/66 [==============================] - 3s 44ms/step - loss: 1.3807 - accuracy: 0.5714 - val_loss: 5.3621 - val_accuracy: 0.1659\n",
      "Epoch 2/15\n",
      "66/66 [==============================] - 3s 43ms/step - loss: 0.4495 - accuracy: 0.8624 - val_loss: 3.9506 - val_accuracy: 0.2699\n",
      "Epoch 3/15\n",
      "66/66 [==============================] - 3s 40ms/step - loss: 0.2663 - accuracy: 0.9214 - val_loss: 1.8510 - val_accuracy: 0.4912\n",
      "Epoch 4/15\n",
      "66/66 [==============================] - 3s 41ms/step - loss: 0.1814 - accuracy: 0.9519 - val_loss: 1.2819 - val_accuracy: 0.5686\n",
      "Epoch 5/15\n",
      "66/66 [==============================] - 3s 42ms/step - loss: 0.1369 - accuracy: 0.9657 - val_loss: 1.1872 - val_accuracy: 0.6704\n",
      "Epoch 6/15\n",
      "66/66 [==============================] - 3s 40ms/step - loss: 0.1239 - accuracy: 0.9667 - val_loss: 0.3385 - val_accuracy: 0.8827\n",
      "Epoch 7/15\n",
      "66/66 [==============================] - 3s 44ms/step - loss: 0.0936 - accuracy: 0.9771 - val_loss: 0.3056 - val_accuracy: 0.9181\n",
      "Epoch 8/15\n",
      "66/66 [==============================] - 3s 43ms/step - loss: 0.0693 - accuracy: 0.9862 - val_loss: 0.2221 - val_accuracy: 0.9204\n",
      "Epoch 9/15\n",
      "66/66 [==============================] - 3s 44ms/step - loss: 0.0615 - accuracy: 0.9843 - val_loss: 0.3814 - val_accuracy: 0.8695\n",
      "Epoch 10/15\n",
      "66/66 [==============================] - 3s 42ms/step - loss: 0.0554 - accuracy: 0.9871 - val_loss: 0.2800 - val_accuracy: 0.9093\n",
      "Epoch 10: early stopping\n"
     ]
    }
   ],
   "source": [
    "epochs = 15\n",
    "early_stopping = EarlyStopping(monitor='val_loss', patience=2, min_delta=0.01, mode='min', verbose=1)\n",
    "history = model.fit(train_dataset, epochs=epochs, validation_data=valid_dataset, callbacks=[early_stopping])"
   ]
  },
  {
   "cell_type": "code",
   "execution_count": 6,
   "metadata": {
    "id": "_av8le93YJ-e"
   },
   "outputs": [],
   "source": [
    "# # Plot the loss curves for training and validation.\n",
    "# history_dict = history.history\n",
    "# loss_values = history_dict['loss']\n",
    "# val_loss_values = history_dict['val_loss']\n",
    "# epochs = range(1, len(loss_values)+1)\n",
    "\n",
    "# plt.figure(figsize=(8,6))\n",
    "# plt.plot(epochs, loss_values, 'bo', label='Training loss')\n",
    "# plt.plot(epochs, val_loss_values, 'b', label='Validation loss')\n",
    "# plt.title('Training and validation loss')\n",
    "# plt.xlabel('Epochs')\n",
    "# plt.ylabel('Loss')\n",
    "# plt.legend()\n",
    "# plt.show()"
   ]
  },
  {
   "cell_type": "code",
   "execution_count": 7,
   "metadata": {
    "id": "3eIksM-aYJ-f"
   },
   "outputs": [],
   "source": [
    "# # Plot the accuracy curves for training and validation.\n",
    "# acc_values = history_dict['accuracy']\n",
    "# val_acc_values = history_dict['val_accuracy']\n",
    "# epochs = range(1, len(acc_values)+1)\n",
    "\n",
    "# plt.figure(figsize=(8,6))\n",
    "# plt.plot(epochs, acc_values, 'bo', label='Training accuracy')\n",
    "# plt.plot(epochs, val_acc_values, 'b', label='Validation accuracy')\n",
    "# plt.title('Training and validation accuracy')\n",
    "# plt.xlabel('Epochs')\n",
    "# plt.ylabel('Accuracy')\n",
    "# plt.legend()\n",
    "# plt.show()"
   ]
  },
  {
   "cell_type": "code",
   "execution_count": 8,
   "metadata": {
    "id": "5Nld1pXCYJ-g"
   },
   "outputs": [],
   "source": [
    "# # Compute the final loss and accuracy\n",
    "# final_loss, final_acc = model.evaluate(valid_dataset, verbose=0)\n",
    "# print(\"Final loss: {0:.6f}, final accuracy: {1:.6f}\".format(final_loss, final_acc))"
   ]
  },
  {
   "cell_type": "code",
   "execution_count": 9,
   "metadata": {
    "id": "APZLpfU9YJ-i"
   },
   "outputs": [],
   "source": [
    "# print(model.summary())"
   ]
  },
  {
   "cell_type": "code",
   "execution_count": 10,
   "metadata": {
    "id": "H4Y5vdN2YJ-i"
   },
   "outputs": [
    {
     "name": "stdout",
     "output_type": "stream",
     "text": [
      "Average time per sample:  0.009591511111111117\n",
      "Final loss: 0.358587, final accuracy: 0.897321\n"
     ]
    }
   ],
   "source": [
    "import time\n",
    "\n",
    "# Start the timer.\n",
    "t0 = time.process_time()\n",
    "\n",
    "\n",
    "final_loss, final_acc = model.evaluate(test_dataset, verbose=0)\n",
    "\n",
    "# Stop the timer.0\n",
    "t1 = time.process_time()\n",
    "\n",
    "# print((t1-t0), len(valid_dataset), 'batches')\n",
    "avg_time = (t1 - t0) / len(valid_dataset) / 30\n",
    "print(\"Average time per sample: \", avg_time)\n",
    "print(\"Final loss: {0:.6f}, final accuracy: {1:.6f}\".format(final_loss, final_acc))\n",
    "\n",
    "# penalty = ... # whatever, we'll find this out later.\n",
    "# adjusted_acc = final_acc / (1 + penalty * avg_time)\n",
    "\n",
    "# print(\"Time adjusted final accuracy: {1:.6f}\".format(adjusted_acc))"
   ]
  },
  {
   "cell_type": "markdown",
   "metadata": {
    "id": "FIsVro_fsLmp"
   },
   "source": [
    "5.33727300000001 15 batches\n",
    "Average time per batch:  0.3558182000000007\n",
    "Final loss: 0.291075, final accuracy: 0.900000 \\\n",
    "5.325380999999993 15 batches\n",
    "Average time per batch:  0.35502539999999955\n",
    "Final loss: 0.170305, final accuracy: 0.955357 \\\n",
    "5.40189300000003 15 batches\n",
    "Average time per batch:  0.36012620000000195\n",
    "Final loss: 0.292220, final accuracy: 0.928571 \\\n",
    "5.467108999999994 15 batches\n",
    "Average time per batch:  0.3644739333333329\n",
    "Final loss: 0.384134, final accuracy: 0.897321"
   ]
  },
  {
   "cell_type": "code",
   "execution_count": 35,
   "metadata": {},
   "outputs": [],
   "source": [
    "# X_test, y_test = for x, y in test_dataset\n",
    "# X_test\n",
    "# y_test\n",
    "# for x, y in test_dataset:\n",
    "#     np.concatenate(X_test, (x.numpy()))\n",
    "#     y_test.append([y.numpy()])\n",
    "#     print(x.shape)\n",
    "# print(type(X_test))\n",
    "# X_test, y_test= ((np.concatenate([x.numpy()]), np.concatenate([y.numpy()])) for x, y in test_dataset)\n",
    "# # y_test = np.concatenate([y.numpy() for x, y in test_dataset])\n",
    "# y2_test = np.concatenate([y.numpy() for x, y in test_dataset])"
   ]
  },
  {
   "cell_type": "code",
   "execution_count": 91,
   "metadata": {},
   "outputs": [],
   "source": [
    "from itertools import tee"
   ]
  },
  {
   "cell_type": "code",
   "execution_count": 95,
   "metadata": {},
   "outputs": [],
   "source": [
    "temp = test_dataset.as_numpy_iterator()\n",
    "temp, temp2 = tee(temp)"
   ]
  },
  {
   "cell_type": "code",
   "execution_count": 96,
   "metadata": {},
   "outputs": [],
   "source": [
    "testing = temp\n",
    "arrays = [y for x, y in temp2]"
   ]
  },
  {
   "cell_type": "code",
   "execution_count": 97,
   "metadata": {},
   "outputs": [],
   "source": [
    "true_classes = []\n",
    "for array in arrays:\n",
    "    true_classes.extend(array)"
   ]
  },
  {
   "cell_type": "code",
   "execution_count": 98,
   "metadata": {
    "scrolled": true
   },
   "outputs": [
    {
     "name": "stdout",
     "output_type": "stream",
     "text": [
      "448\n",
      "[4 4 2 3 4 0 4 7 2 2 0 1 9 1 2 1 2 7 0 3 1 0 6 9 7 4 8 2 8 6 8 1 1 1 2 0 7\n",
      " 1 9 6 0 2 4 0 6 0 1 9 4 8 7 2 1 8 6 2 5 5 2 1 9 2 2 4 9 6 3 7 3 4 3 0 2 0\n",
      " 8 2 4 1 4 0 1 6 6 8 0 7 4 6 3 0 7 9 4 6 4 5 4 1 4 1 7 6 8 5 7 6 7 8 8 0 1\n",
      " 3 0 8 9 9 6 0 4 1 7 4 6 5 2 5 3 9 3 8 1 6 4 4 2 5 7 0 7 2 0 8 9 6 2 8 3 6\n",
      " 6 8 9 2 2 3 3 3 0 9 0 1 0 6 8 9 0 7 3 8 9 4 7 6 5 8 3 1 6 6 5 5 2 0 1 4 0\n",
      " 8 7 5 4 3 6 8 8 4 7 0 1 3 6 2 6 7 2 4 6 9 3 1 9 6 3 0 2 5 8 6 6 3 1 3 7 1\n",
      " 2 2 1 4 9 5 4 5 4 9 5 5 1 9 2 6 7 7 4 6 0 6 2 6 2 8 0 2 6 6 1 2 6 6 2 1 7\n",
      " 0 5 2 4 8 1 9 3 6 2 2 6 3 1 8 3 8 4 6 9 0 9 6 7 7 5 2 5 1 2 3 5 1 5 0 0 0\n",
      " 9 1 5 1 8 6 8 5 6 4 0 4 5 7 3 3 1 1 9 8 1 6 6 2 0 8 6 0 9 0 8 3 3 4 0 1 5\n",
      " 1 3 6 9 3 0 2 7 7 9 7 3 8 9 9 0 3 7 0 3 7 1 5 0 9 5 6 0 8 8 4 9 3 8 9 0 9\n",
      " 7 6 7 4 2 0 8 5 4 4 1 3 0 6 4 5 4 7 0 4 6 1 8 1 6 6 5 9 2 9 8 2 1 5 9 5 2\n",
      " 1 2 8 6 7 3 4 2 7 6 0 8 9 0 6 9 1 2 8 7 1 2 3 3 4 9 2 8 6 7 3 6 2 6 2 5 1\n",
      " 4 6 3 8]\n",
      "[[49  0  2  0  1  0  1  0  0  0]\n",
      " [ 0 45  0  0  0  0  0  0  0  0]\n",
      " [ 0  0 48  1  1  0  0  0  0  0]\n",
      " [ 0  0  0 34  0  0  1  0  0  0]\n",
      " [ 0  1  0  0 40  0  0  0  0  0]\n",
      " [ 0  1  0  2  2 33  5  0  0  0]\n",
      " [ 0  0  0  1  0  0 43  0  1  0]\n",
      " [ 0  0  1  3  0  0  5 38  0  0]\n",
      " [ 0  0  0  0  0  0  5  0 42  0]\n",
      " [ 0  2  0  0  0  0  0  0  0 40]]\n",
      "Accuracy: 0.9196428571428571\n"
     ]
    }
   ],
   "source": [
    "import numpy as np\n",
    "import matplotlib.pyplot as plt\n",
    "import seaborn as sns\n",
    "from sklearn.metrics import confusion_matrix\n",
    "\n",
    "# Get predictions\n",
    "predictions = model.predict(temp, verbose=0)\n",
    "print(len(predictions))\n",
    "predicted_classes = np.argmax(predictions, axis=1)\n",
    "\n",
    "# Extract true labels from batches\n",
    "# true_classes = np.concatenate([y.numpy() for x, y in testing])\n",
    "# true_classes = true_classes[np.logical_not(np.isnan(true_classes))]\n",
    "# Create confusion matrix\n",
    "print(predicted_classes)\n",
    "cm = confusion_matrix(true_classes, predicted_classes)\n",
    "\n",
    "# Plot the matrix\n",
    "print(cm)\n",
    "from sklearn.metrics import accuracy_score\n",
    "accuracy = accuracy_score(true_classes, predicted_classes)\n",
    "print(f\"Accuracy: {accuracy}\")"
   ]
  },
  {
   "cell_type": "code",
   "execution_count": null,
   "metadata": {},
   "outputs": [],
   "source": [
    "print(true_classes)\n",
    "print(predicted_classes)"
   ]
  },
  {
   "cell_type": "code",
   "execution_count": 103,
   "metadata": {},
   "outputs": [
    {
     "data": {
      "image/png": "[encoded data removed]",
      "text/plain": [
       "<Figure size 640x480 with 1 Axes>"
      ]
     },
     "metadata": {},
     "output_type": "display_data"
    }
   ],
   "source": [
    "import matplotlib.pyplot as plt\n",
    "import math\n",
    "times = [0.382, 0.372, 0.001835]\n",
    "for i in range(len(times)):\n",
    "    times[i] *= 1000\n",
    "accuracies = [0.1738, 0.89, 0.693]\n",
    "labels = ['baseline', 'CNN', 'handcrated']\n",
    "\n",
    "plt.scatter(times, accuracies, color='blue')\n",
    "for i in range(len(times)):\n",
    "    plt.text(times[i], accuracies[i], labels[i], fontsize=9, ha='right')\n",
    "\n",
    "plt.title('Time vs Accuracy')\n",
    "plt.xlabel('Time (ms)')\n",
    "plt.ylabel('Accuracy')\n",
    "\n",
    "plt.show()"
   ]
  },
  {
   "cell_type": "code",
   "execution_count": 104,
   "metadata": {},
   "outputs": [
    {
     "data": {
      "image/png": "[encoded data removed]",
      "text/plain": [
       "<Figure size 640x480 with 1 Axes>"
      ]
     },
     "metadata": {},
     "output_type": "display_data"
    }
   ],
   "source": [
    "times = [2.2, 1.2]\n",
    "accuracies = [0.1738, 0.89]\n",
    "labels = ['baseline', 'CNN']\n",
    "\n",
    "plt.scatter(times, accuracies, color='blue')\n",
    "for i in range(len(times)):\n",
    "    plt.text(times[i], accuracies[i], labels[i], fontsize=9, ha='right')\n",
    "\n",
    "plt.title('Time vs Accuracy (CNN)')\n",
    "plt.xlabel('Time (ms)')\n",
    "plt.ylabel('Accuracy')\n",
    "\n",
    "plt.show()"
   ]
  },
  {
   "cell_type": "code",
   "execution_count": 108,
   "metadata": {},
   "outputs": [
    {
     "data": {
      "image/png": "[encoded data removed]",
      "text/plain": [
       "<Figure size 640x480 with 1 Axes>"
      ]
     },
     "metadata": {},
     "output_type": "display_data"
    }
   ],
   "source": [
    "parameters = [8487498, 622602, 243000]\n",
    "for i in range(len(parameters)):\n",
    "    parameters[i] = math.log(parameters[i], 10)\n",
    "accuracies = [2.4, 1.3, 0.05]\n",
    "labels = ['baseline', 'CNN', 'handcrated']\n",
    "# Creating the scatter plot\n",
    "plt.scatter(parameters, accuracies, color='blue')\n",
    "for i in range(len(parameters)):\n",
    "    plt.text(parameters[i], accuracies[i], labels[i], fontsize=9, ha='right')\n",
    "# Adding title and labels\n",
    "plt.title('Parameters vs Inference Time')\n",
    "plt.xlabel('Number of Parameters (log10)')\n",
    "plt.ylabel('Time (ms)')\n",
    "# Show the plot\n",
    "plt.show()"
   ]
  },
  {
   "cell_type": "code",
   "execution_count": 99,
   "metadata": {},
   "outputs": [
    {
     "name": "stdout",
     "output_type": "stream",
     "text": [
      "62\n"
     ]
    }
   ],
   "source": [
    "import numpy as np\n",
    "import pandas as pd\n",
    "import tensorflow as tf\n",
    "import matplotlib.pyplot as plt\n",
    "import os\n",
    "import wave\n",
    "import pylab\n",
    "from pathlib import Path\n",
    "from scipy import signal\n",
    "from scipy.io import wavfile\n",
    "from sklearn.metrics import confusion_matrix\n",
    "import itertools\n",
    "from tensorflow.keras import Sequential\n",
    "from tensorflow.keras.layers import Conv2D, MaxPooling2D, Flatten, Dense\n",
    "from tensorflow.keras.callbacks import EarlyStopping\n",
    "import time\n",
    "INPUT_DIR = '/Users/fuchunhsieh/Desktop/Fall_2023/Comp_Sci_539/Project/handcrafted/data'\n",
    "OUTPUT_DIR = '/Users/fuchunhsieh/Desktop/Fall_2023/Comp_Sci_539/Project/handcrafted'\n",
    "\n",
    "# list all the files and directories within a specified directory\n",
    "parent_list = os.listdir(INPUT_DIR)\n",
    "print(len(parent_list))\n",
    "# for i in range(len(parent_list)):\n",
    "    # print(parent_list[i])\n",
    "# for filename in os.listdir(INPUT_DIR):\n",
    "#     print(filename)"
   ]
  },
  {
   "cell_type": "code",
   "execution_count": 100,
   "metadata": {},
   "outputs": [],
   "source": [
    "# only need to do once, convert audio file to images\n",
    "INPUT_DIR = '/Users/fuchunhsieh/Desktop/Fall_2023/Comp_Sci_539/Project/handcrafted/audios'\n",
    "t_process_0 = time.process_time()\n",
    "def get_wav_info(wav_file):\n",
    "    wav = wave.open(wav_file, 'r')\n",
    "    frames = wav.readframes(-1)\n",
    "    sound_info = np.frombuffer(frames, 'int16')\n",
    "    frame_rate = wav.getframerate()\n",
    "    wav.close()\n",
    "    return sound_info, frame_rate\n",
    "    \n",
    "if not os.path.exists(os.path.join(OUTPUT_DIR, 'audio-images')):\n",
    "    os.mkdir(os.path.join(OUTPUT_DIR, 'audio-images'))\n",
    "    for filename in os.listdir(INPUT_DIR):\n",
    "        \n",
    "        if \"wav\" in filename:\n",
    "            file_path = os.path.join(INPUT_DIR, filename)\n",
    "            file_stem = Path(file_path).stem\n",
    "            target_dir = f'class_{file_stem[0]}'\n",
    "            dist_dir = os.path.join(OUTPUT_DIR, 'audio-images', target_dir)\n",
    "            file_dist_path = os.path.join(dist_dir, file_stem)\n",
    "            if not os.path.exists(dist_dir):\n",
    "                os.makedirs(dist_dir)\n",
    "            if not os.path.exists(file_dist_path + '.png'):\n",
    "                file_stem = Path(file_path).stem\n",
    "                sound_info, frame_rate = get_wav_info(file_path)\n",
    "                pylab.specgram(sound_info, Fs = frame_rate)\n",
    "                plt.axis('off')\n",
    "                pylab.savefig(f'{file_dist_path}.png')\n",
    "                pylab.close()\n",
    "path_list = os.listdir(os.path.join(OUTPUT_DIR, 'audio-images'))\n",
    "# print(\"Classes: \\n\")\n",
    "# for i in range(10):\n",
    "#     print(path_list[i])\n",
    "\n",
    "# path_list = os.listdir(os.path.join(OUTPUT_DIR, 'audio-images/class_1'))\n",
    "# print(\"\\nA few example files: \\n\")\n",
    "# for i in range(10):\n",
    "#     print(path_list[i])\n",
    "t_process_1 = time.process_time()\n",
    "# print(t_process_1-t_process_0)"
   ]
  },
  {
   "cell_type": "code",
   "execution_count": 101,
   "metadata": {},
   "outputs": [
    {
     "name": "stdout",
     "output_type": "stream",
     "text": [
      "Found 30000 files belonging to 10 classes.\n",
      "Using 21000 files for training.\n",
      "Found 30000 files belonging to 10 classes.\n",
      "Using 9000 files for validation.\n",
      "validation dataset is further split into 50/50 test/valid dataset \n",
      "\n",
      "batch size: 32\n",
      "train_dataset batch numbers: 657\n",
      "valid_dataset batch numbers: 141\n",
      "test_dataset batch numbers: 141\n"
     ]
    }
   ],
   "source": [
    "IMAGE_HEIGHT = 64\n",
    "IMAGE_WIDTH = 64\n",
    "BATCH_SIZE = 32\n",
    "N_CHANNELS = 1\n",
    "N_CLASSES = 10\n",
    "\n",
    "directory = os.path.join(OUTPUT_DIR, 'audio-images')\n",
    "train_dataset = tf.keras.preprocessing.image_dataset_from_directory(\n",
    "    batch_size = BATCH_SIZE,\n",
    "    validation_split = 0.3,\n",
    "    directory=directory,\n",
    "    shuffle = True,\n",
    "    color_mode = 'grayscale',\n",
    "    image_size = (IMAGE_HEIGHT, IMAGE_WIDTH),\n",
    "    subset = \"training\",\n",
    "    seed = 42\n",
    ")\n",
    "\n",
    "valid_dataset = tf.keras.preprocessing.image_dataset_from_directory(\n",
    "    batch_size = BATCH_SIZE,\n",
    "    validation_split = 0.3,\n",
    "    directory=directory,\n",
    "    shuffle = True,\n",
    "    color_mode = 'grayscale',\n",
    "    image_size = (IMAGE_HEIGHT, IMAGE_WIDTH),\n",
    "    subset = \"validation\",\n",
    "    seed = 42\n",
    ")\n",
    "\n",
    "def split_dataset(dataset, split_fraction=0.5):\n",
    "  dataset_size = len(dataset)\n",
    "  split_size = int(dataset_size * split_fraction)\n",
    "  dataset = dataset.shuffle(buffer_size=dataset_size)\n",
    "  return dataset.take(split_size), dataset.skip(split_size)\n",
    "\n",
    "test_dataset, valid_dataset = split_dataset(valid_dataset, split_fraction=0.5)\n",
    "print('validation dataset is further split into 50/50 test/valid dataset', '\\n')\n",
    "print('batch size:', BATCH_SIZE)\n",
    "print('train_dataset batch numbers:', len(train_dataset))\n",
    "print('valid_dataset batch numbers:', len(valid_dataset))\n",
    "print('test_dataset batch numbers:', len(test_dataset))"
   ]
  },
  {
   "cell_type": "code",
   "execution_count": 102,
   "metadata": {},
   "outputs": [
    {
     "name": "stdout",
     "output_type": "stream",
     "text": [
      "4512\n",
      "[2 3 1 ... 2 2 2]\n",
      "[[  0   1 403  60   0   0   0   0   0   0]\n",
      " [  0   0 444   3   0   0   0   0   0   0]\n",
      " [  0   1 381  32   0   0   0   0   0   0]\n",
      " [  0   0 280 137   2   0   0   0   0   0]\n",
      " [  0   0 405  36   0   0   0   0   0   0]\n",
      " [  0   0 395  54   2   0   3   0   0   1]\n",
      " [  0  10 209   0 108   0 135   1   0   0]\n",
      " [  0  15 294 162   0   0   0   0   0   1]\n",
      " [  6  16 384   4  14   0  30   0   1   0]\n",
      " [  0   0 462  20   0   0   0   0   0   0]]\n",
      "Accuracy: 0.1449468085106383\n"
     ]
    }
   ],
   "source": [
    "from itertools import tee\n",
    "temp = test_dataset.as_numpy_iterator()\n",
    "temp, temp2 = tee(temp)\n",
    "testing = temp\n",
    "arrays = [y for x, y in temp2]\n",
    "true_classes = []\n",
    "for array in arrays:\n",
    "    true_classes.extend(array)\n",
    "import numpy as np\n",
    "import matplotlib.pyplot as plt\n",
    "import seaborn as sns\n",
    "from sklearn.metrics import confusion_matrix\n",
    "\n",
    "# Get predictions\n",
    "predictions = model.predict(temp, verbose=0)\n",
    "print(len(predictions))\n",
    "predicted_classes = np.argmax(predictions, axis=1)\n",
    "\n",
    "# Extract true labels from batches\n",
    "# true_classes = np.concatenate([y.numpy() for x, y in testing])\n",
    "# true_classes = true_classes[np.logical_not(np.isnan(true_classes))]\n",
    "# Create confusion matrix\n",
    "print(predicted_classes)\n",
    "cm = confusion_matrix(true_classes, predicted_classes)\n",
    "\n",
    "# Plot the matrix\n",
    "print(cm)\n",
    "from sklearn.metrics import accuracy_score\n",
    "accuracy = accuracy_score(true_classes, predicted_classes)\n",
    "print(f\"Accuracy: {accuracy}\")"
   ]
  },
  {
   "cell_type": "code",
   "execution_count": null,
   "metadata": {},
   "outputs": [],
   "source": []
  }
 ],
 "metadata": {
  "colab": {
   "provenance": []
  },
  "kernelspec": {
   "display_name": "Python 3 (ipykernel)",
   "language": "python",
   "name": "python3"
  },
  "language_info": {
   "codemirror_mode": {
    "name": "ipython",
    "version": 3
   },
   "file_extension": ".py",
   "mimetype": "text/x-python",
   "name": "python",
   "nbconvert_exporter": "python",
   "pygments_lexer": "ipython3",
   "version": "3.9.18"
  }
 },
 "nbformat": 4,
 "nbformat_minor": 4
}
