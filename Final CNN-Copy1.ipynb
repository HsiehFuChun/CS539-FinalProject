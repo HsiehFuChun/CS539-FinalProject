{
 "cells": [
  {
   "cell_type": "code",
   "execution_count": 1,
   "metadata": {
    "colab": {
     "base_uri": "https://localhost:8080/"
    },
    "id": "ACiESaD8YJ-W",
    "outputId": "e3effc96-1a07-41cc-c5f4-741d66328206"
   },
   "outputs": [
    {
     "name": "stdout",
     "output_type": "stream",
     "text": [
      "62\n"
     ]
    }
   ],
   "source": [
    "import numpy as np\n",
    "import pandas as pd\n",
    "import tensorflow as tf\n",
    "import matplotlib.pyplot as plt\n",
    "import os\n",
    "import wave\n",
    "import pylab\n",
    "from pathlib import Path\n",
    "from scipy import signal\n",
    "from scipy.io import wavfile\n",
    "from sklearn.metrics import confusion_matrix\n",
    "import itertools\n",
    "from tensorflow.keras import Sequential\n",
    "from tensorflow.keras.layers import Conv2D, MaxPooling2D, Flatten, Dense\n",
    "from tensorflow.keras.callbacks import EarlyStopping\n",
    "import time\n",
    "INPUT_DIR = '/Users/fuchunhsieh/Desktop/Fall_2023/Comp_Sci_539/Project/handcrafted/data'\n",
    "OUTPUT_DIR = '/Users/fuchunhsieh/Desktop/Fall_2023/Comp_Sci_539/Project/handcrafted'\n",
    "\n",
    "# list all the files and directories within a specified directory\n",
    "parent_list = os.listdir(INPUT_DIR)\n",
    "print(len(parent_list))\n",
    "# for i in range(len(parent_list)):\n",
    "    # print(parent_list[i])\n",
    "# for filename in os.listdir(INPUT_DIR):\n",
    "#     print(filename)"
   ]
  },
  {
   "cell_type": "code",
   "execution_count": 2,
   "metadata": {},
   "outputs": [],
   "source": [
    "import os\n",
    "import shutil\n",
    "\n",
    "source_dir = '/Users/fuchunhsieh/Desktop/Fall_2023/Comp_Sci_539/Project/handcrafted/data'  # Replace with the path to your source directory\n",
    "dest_dir = '/Users/fuchunhsieh/Desktop/Fall_2023/Comp_Sci_539/Project/handcrafted/audios'  # Replace with the path to your destination directory\n",
    "\n",
    "if not os.path.exists(dest_dir):\n",
    "    os.makedirs(dest_dir)\n",
    "\n",
    "for folder_name in os.listdir(source_dir):\n",
    "    folder_path = os.path.join(source_dir, folder_name)\n",
    "    if os.path.isdir(folder_path):\n",
    "        for file_name in os.listdir(folder_path):\n",
    "            file_path = os.path.join(folder_path, file_name)\n",
    "            if os.path.isfile(file_path):\n",
    "                shutil.copy(file_path, dest_dir)"
   ]
  },
  {
   "cell_type": "markdown",
   "metadata": {},
   "source": [
    "# Convert audio files to image files"
   ]
  },
  {
   "cell_type": "code",
   "execution_count": 3,
   "metadata": {
    "colab": {
     "base_uri": "https://localhost:8080/"
    },
    "id": "9Z9ksGe1t3oI",
    "outputId": "7782b35d-6bf7-4a1b-8c11-43e21c6e619f"
   },
   "outputs": [],
   "source": [
    "# only need to do once, convert audio file to images\n",
    "INPUT_DIR = '/Users/fuchunhsieh/Desktop/Fall_2023/Comp_Sci_539/Project/handcrafted/audios'\n",
    "t_process_0 = time.process_time()\n",
    "def get_wav_info(wav_file):\n",
    "    wav = wave.open(wav_file, 'r')\n",
    "    frames = wav.readframes(-1)\n",
    "    sound_info = np.frombuffer(frames, 'int16')\n",
    "    frame_rate = wav.getframerate()\n",
    "    wav.close()\n",
    "    return sound_info, frame_rate\n",
    "    \n",
    "if not os.path.exists(os.path.join(OUTPUT_DIR, 'audio-images')):\n",
    "    os.mkdir(os.path.join(OUTPUT_DIR, 'audio-images'))\n",
    "    for filename in os.listdir(INPUT_DIR):\n",
    "        \n",
    "        if \"wav\" in filename:\n",
    "            file_path = os.path.join(INPUT_DIR, filename)\n",
    "            file_stem = Path(file_path).stem\n",
    "            target_dir = f'class_{file_stem[0]}'\n",
    "            dist_dir = os.path.join(OUTPUT_DIR, 'audio-images', target_dir)\n",
    "            file_dist_path = os.path.join(dist_dir, file_stem)\n",
    "            if not os.path.exists(dist_dir):\n",
    "                os.makedirs(dist_dir)\n",
    "            if not os.path.exists(file_dist_path + '.png'):\n",
    "                file_stem = Path(file_path).stem\n",
    "                sound_info, frame_rate = get_wav_info(file_path)\n",
    "                pylab.specgram(sound_info, Fs = frame_rate)\n",
    "                plt.axis('off')\n",
    "                pylab.savefig(f'{file_dist_path}.png')\n",
    "                pylab.close()\n",
    "path_list = os.listdir(os.path.join(OUTPUT_DIR, 'audio-images'))\n",
    "# print(\"Classes: \\n\")\n",
    "# for i in range(10):\n",
    "#     print(path_list[i])\n",
    "\n",
    "# path_list = os.listdir(os.path.join(OUTPUT_DIR, 'audio-images/class_1'))\n",
    "# print(\"\\nA few example files: \\n\")\n",
    "# for i in range(10):\n",
    "#     print(path_list[i])\n",
    "t_process_1 = time.process_time()\n",
    "# print(t_process_1-t_process_0)"
   ]
  },
  {
   "cell_type": "markdown",
   "metadata": {},
   "source": [
    "image process time 989.6 \\\n",
    "average time per sample to process = 0.33 (s)"
   ]
  },
  {
   "cell_type": "code",
   "execution_count": 4,
   "metadata": {},
   "outputs": [
    {
     "name": "stdout",
     "output_type": "stream",
     "text": [
      "0.0013140000000007035\n"
     ]
    }
   ],
   "source": [
    "print(t_process_1-t_process_0)"
   ]
  },
  {
   "cell_type": "markdown",
   "metadata": {},
   "source": [
    "3484.1788749999996"
   ]
  },
  {
   "cell_type": "markdown",
   "metadata": {
    "id": "8IIasxjxsxgC"
   },
   "source": [
    "# Load and Process Data\n"
   ]
  },
  {
   "cell_type": "code",
   "execution_count": 18,
   "metadata": {
    "colab": {
     "base_uri": "https://localhost:8080/"
    },
    "id": "RxqGtOzjYJ-Z",
    "outputId": "029fe361-dcf5-450c-8fe2-bf2f3fe56e40"
   },
   "outputs": [
    {
     "name": "stdout",
     "output_type": "stream",
     "text": [
      "Found 30000 files belonging to 10 classes.\n",
      "Using 21000 files for training.\n",
      "Found 30000 files belonging to 10 classes.\n",
      "Using 9000 files for validation.\n",
      "validation dataset is further split into 50/50 test/valid dataset \n",
      "\n",
      "batch size: 32\n",
      "train_dataset batch numbers: 657\n",
      "valid_dataset batch numbers: 141\n",
      "test_dataset batch numbers: 141\n"
     ]
    }
   ],
   "source": [
    "IMAGE_HEIGHT = 64\n",
    "IMAGE_WIDTH = 64\n",
    "BATCH_SIZE = 32\n",
    "N_CHANNELS = 1\n",
    "N_CLASSES = 10\n",
    "\n",
    "directory = os.path.join(OUTPUT_DIR, 'audio-images')\n",
    "train_dataset = tf.keras.preprocessing.image_dataset_from_directory(\n",
    "    batch_size = BATCH_SIZE,\n",
    "    validation_split = 0.3,\n",
    "    directory=directory,\n",
    "    shuffle = True,\n",
    "    color_mode = 'grayscale',\n",
    "    image_size = (IMAGE_HEIGHT, IMAGE_WIDTH),\n",
    "    subset = \"training\",\n",
    "    seed = 42\n",
    ")\n",
    "\n",
    "valid_dataset = tf.keras.preprocessing.image_dataset_from_directory(\n",
    "    batch_size = BATCH_SIZE,\n",
    "    validation_split = 0.3,\n",
    "    directory=directory,\n",
    "    shuffle = True,\n",
    "    color_mode = 'grayscale',\n",
    "    image_size = (IMAGE_HEIGHT, IMAGE_WIDTH),\n",
    "    subset = \"validation\",\n",
    "    seed = 42\n",
    ")\n",
    "\n",
    "def split_dataset(dataset, split_fraction=0.5):\n",
    "  dataset_size = len(dataset)\n",
    "  split_size = int(dataset_size * split_fraction)\n",
    "  dataset = dataset.shuffle(buffer_size=dataset_size)\n",
    "  return dataset.take(split_size), dataset.skip(split_size)\n",
    "\n",
    "test_dataset, valid_dataset = split_dataset(valid_dataset, split_fraction=0.5)\n",
    "print('validation dataset is further split into 50/50 test/valid dataset', '\\n')\n",
    "print('batch size:', BATCH_SIZE)\n",
    "print('train_dataset batch numbers:', len(train_dataset))\n",
    "print('valid_dataset batch numbers:', len(valid_dataset))\n",
    "print('test_dataset batch numbers:', len(test_dataset))"
   ]
  },
  {
   "cell_type": "markdown",
   "metadata": {
    "id": "bvyUbqirtaGF"
   },
   "source": [
    "# CNN Model"
   ]
  },
  {
   "cell_type": "code",
   "execution_count": 23,
   "metadata": {
    "colab": {
     "base_uri": "https://localhost:8080/"
    },
    "id": "XLvDNyUGYJ-c",
    "outputId": "8d4bfae9-bfe6-4b09-ff27-1082e1386d7a"
   },
   "outputs": [
    {
     "name": "stdout",
     "output_type": "stream",
     "text": [
      "Model: \"sequential_4\"\n",
      "_________________________________________________________________\n",
      " Layer (type)                Output Shape              Param #   \n",
      "=================================================================\n",
      " conv2d_12 (Conv2D)          (None, 32, 32, 32)        320       \n",
      "                                                                 \n",
      " batch_normalization_28 (Ba  (None, 32, 32, 32)        128       \n",
      " tchNormalization)                                               \n",
      "                                                                 \n",
      " max_pooling2d_12 (MaxPooli  (None, 16, 16, 32)        0         \n",
      " ng2D)                                                           \n",
      "                                                                 \n",
      " batch_normalization_29 (Ba  (None, 16, 16, 32)        128       \n",
      " tchNormalization)                                               \n",
      "                                                                 \n",
      " conv2d_13 (Conv2D)          (None, 16, 16, 64)        18496     \n",
      "                                                                 \n",
      " batch_normalization_30 (Ba  (None, 16, 16, 64)        256       \n",
      " tchNormalization)                                               \n",
      "                                                                 \n",
      " max_pooling2d_13 (MaxPooli  (None, 8, 8, 64)          0         \n",
      " ng2D)                                                           \n",
      "                                                                 \n",
      " batch_normalization_31 (Ba  (None, 8, 8, 64)          256       \n",
      " tchNormalization)                                               \n",
      "                                                                 \n",
      " conv2d_14 (Conv2D)          (None, 8, 8, 128)         73856     \n",
      "                                                                 \n",
      " batch_normalization_32 (Ba  (None, 8, 8, 128)         512       \n",
      " tchNormalization)                                               \n",
      "                                                                 \n",
      " max_pooling2d_14 (MaxPooli  (None, 4, 4, 128)         0         \n",
      " ng2D)                                                           \n",
      "                                                                 \n",
      " batch_normalization_33 (Ba  (None, 4, 4, 128)         512       \n",
      " tchNormalization)                                               \n",
      "                                                                 \n",
      " flatten_4 (Flatten)         (None, 2048)              0         \n",
      "                                                                 \n",
      " dense_8 (Dense)             (None, 256)               524544    \n",
      "                                                                 \n",
      " batch_normalization_34 (Ba  (None, 256)               1024      \n",
      " tchNormalization)                                               \n",
      "                                                                 \n",
      " dropout_4 (Dropout)         (None, 256)               0         \n",
      "                                                                 \n",
      " dense_9 (Dense)             (None, 10)                2570      \n",
      "                                                                 \n",
      "=================================================================\n",
      "Total params: 622602 (2.38 MB)\n",
      "Trainable params: 621194 (2.37 MB)\n",
      "Non-trainable params: 1408 (5.50 KB)\n",
      "_________________________________________________________________\n"
     ]
    }
   ],
   "source": [
    "model = tf.keras.models.Sequential()\n",
    "model.add(tf.keras.layers.Input(shape=(IMAGE_HEIGHT, IMAGE_WIDTH, N_CHANNELS)))\n",
    "model.add(tf.keras.layers.Conv2D(32, 3, strides=2, padding='same', activation='relu'))\n",
    "model.add(tf.keras.layers.BatchNormalization())\n",
    "model.add(tf.keras.layers.MaxPooling2D(pool_size=(2, 2)))\n",
    "model.add(tf.keras.layers.BatchNormalization())\n",
    "model.add(tf.keras.layers.Conv2D(64, 3, padding='same', activation='relu'))\n",
    "model.add(tf.keras.layers.BatchNormalization())\n",
    "model.add(tf.keras.layers.MaxPooling2D(pool_size=(2, 2)))\n",
    "model.add(tf.keras.layers.BatchNormalization())\n",
    "model.add(tf.keras.layers.Conv2D(128, 3, padding='same', activation='relu'))\n",
    "model.add(tf.keras.layers.BatchNormalization())\n",
    "model.add(tf.keras.layers.MaxPooling2D(pool_size=(2, 2)))\n",
    "model.add(tf.keras.layers.BatchNormalization())\n",
    "model.add(tf.keras.layers.Flatten())\n",
    "model.add(tf.keras.layers.Dense(256, activation='relu'))\n",
    "model.add(tf.keras.layers.BatchNormalization())\n",
    "model.add(tf.keras.layers.Dropout(0.5))\n",
    "model.add(tf.keras.layers.Dense(N_CLASSES, activation='softmax'))\n",
    "\n",
    "model.compile(optimizer='adam', loss='sparse_categorical_crossentropy', metrics=['accuracy'])\n",
    "model.summary()\n"
   ]
  },
  {
   "cell_type": "code",
   "execution_count": 24,
   "metadata": {
    "colab": {
     "base_uri": "https://localhost:8080/",
     "height": 430
    },
    "id": "HRnQKtzgsLmn",
    "outputId": "75d30ec3-23d1-46de-ef9d-7e12c8865a39"
   },
   "outputs": [
    {
     "name": "stdout",
     "output_type": "stream",
     "text": [
      "Epoch 1/2\n",
      "657/657 [==============================] - 31s 46ms/step - loss: 0.2496 - accuracy: 0.9228 - val_loss: 1.5715 - val_accuracy: 0.5729\n",
      "Epoch 2/2\n",
      "657/657 [==============================] - 30s 46ms/step - loss: 0.0896 - accuracy: 0.9729 - val_loss: 0.1971 - val_accuracy: 0.9328\n"
     ]
    }
   ],
   "source": [
    "epochs = 2\n",
    "# train = train_dataset.take(66)\n",
    "# valid = valid_dataset.take(15)\n",
    "early_stopping = EarlyStopping(monitor='val_loss', patience=3, min_delta=0.01, mode='min', verbose=1)\n",
    "history = model.fit(train_dataset, epochs=epochs, validation_data=valid_dataset, callbacks=[early_stopping])"
   ]
  },
  {
   "cell_type": "code",
   "execution_count": null,
   "metadata": {
    "id": "_av8le93YJ-e"
   },
   "outputs": [],
   "source": [
    "# # Plot the loss curves for training and validation.\n",
    "# history_dict = history.history\n",
    "# loss_values = history_dict['loss']\n",
    "# val_loss_values = history_dict['val_loss']\n",
    "# epochs = range(1, len(loss_values)+1)\n",
    "\n",
    "# plt.figure(figsize=(8,6))\n",
    "# plt.plot(epochs, loss_values, 'bo', label='Training loss')\n",
    "# plt.plot(epochs, val_loss_values, 'b', label='Validation loss')\n",
    "# plt.title('Training and validation loss')\n",
    "# plt.xlabel('Epochs')\n",
    "# plt.ylabel('Loss')\n",
    "# plt.legend()\n",
    "# plt.show()"
   ]
  },
  {
   "cell_type": "code",
   "execution_count": null,
   "metadata": {
    "id": "3eIksM-aYJ-f"
   },
   "outputs": [],
   "source": [
    "# # Plot the accuracy curves for training and validation.\n",
    "# acc_values = history_dict['accuracy']\n",
    "# val_acc_values = history_dict['val_accuracy']\n",
    "# epochs = range(1, len(acc_values)+1)\n",
    "\n",
    "# plt.figure(figsize=(8,6))\n",
    "# plt.plot(epochs, acc_values, 'bo', label='Training accuracy')\n",
    "# plt.plot(epochs, val_acc_values, 'b', label='Validation accuracy')\n",
    "# plt.title('Training and validation accuracy')\n",
    "# plt.xlabel('Epochs')\n",
    "# plt.ylabel('Accuracy')\n",
    "# plt.legend()\n",
    "# plt.show()"
   ]
  },
  {
   "cell_type": "code",
   "execution_count": null,
   "metadata": {
    "id": "5Nld1pXCYJ-g"
   },
   "outputs": [],
   "source": [
    "# # Compute the final loss and accuracy\n",
    "# final_loss, final_acc = model.evaluate(valid_dataset, verbose=0)\n",
    "# print(\"Final loss: {0:.6f}, final accuracy: {1:.6f}\".format(final_loss, final_acc))"
   ]
  },
  {
   "cell_type": "code",
   "execution_count": null,
   "metadata": {
    "id": "APZLpfU9YJ-i"
   },
   "outputs": [],
   "source": [
    "# print(model.summary())"
   ]
  },
  {
   "cell_type": "code",
   "execution_count": 12,
   "metadata": {
    "id": "H4Y5vdN2YJ-i"
   },
   "outputs": [
    {
     "name": "stdout",
     "output_type": "stream",
     "text": [
      "Average time per sample:  0.013518683687943235\n",
      "Final loss: 2.264132, final accuracy: 0.649823\n"
     ]
    }
   ],
   "source": [
    "import time\n",
    "\n",
    "# Start the timer.\n",
    "t0 = time.process_time()\n",
    "\n",
    "\n",
    "final_loss, final_acc = model.evaluate(test_dataset, verbose=0)\n",
    "\n",
    "# Stop the timer.0\n",
    "t1 = time.process_time()\n",
    "\n",
    "# print((t1-t0), len(valid_dataset), 'batches')\n",
    "avg_time = (t1 - t0) / len(valid_dataset) / 30\n",
    "print(\"Average time per sample: \", avg_time)\n",
    "print(\"Final loss: {0:.6f}, final accuracy: {1:.6f}\".format(final_loss, final_acc))\n",
    "\n",
    "# penalty = ... # whatever, we'll find this out later.\n",
    "# adjusted_acc = final_acc / (1 + penalty * avg_time)\n",
    "\n",
    "# print(\"Time adjusted final accuracy: {1:.6f}\".format(adjusted_acc))"
   ]
  },
  {
   "cell_type": "markdown",
   "metadata": {
    "id": "FIsVro_fsLmp"
   },
   "source": [
    "5.33727300000001 15 batches\n",
    "Average time per batch:  0.3558182000000007\n",
    "Final loss: 0.291075, final accuracy: 0.900000 \\\n",
    "5.325380999999993 15 batches\n",
    "Average time per batch:  0.35502539999999955\n",
    "Final loss: 0.170305, final accuracy: 0.955357 \\\n",
    "5.40189300000003 15 batches\n",
    "Average time per batch:  0.36012620000000195\n",
    "Final loss: 0.292220, final accuracy: 0.928571 \\\n",
    "5.467108999999994 15 batches\n",
    "Average time per batch:  0.3644739333333329\n",
    "Final loss: 0.384134, final accuracy: 0.897321"
   ]
  },
  {
   "cell_type": "code",
   "execution_count": 13,
   "metadata": {},
   "outputs": [
    {
     "data": {
      "image/png": "[encoded data removed]",
      "text/plain": [
       "<Figure size 640x480 with 1 Axes>"
      ]
     },
     "metadata": {},
     "output_type": "display_data"
    }
   ],
   "source": [
    "import matplotlib.pyplot as plt\n",
    "import math\n",
    "times = [0.382, 0.372, 0.001835]\n",
    "for i in range(len(times)):\n",
    "    times[i] *= 1000\n",
    "accuracies = [0.1738, 0.89, 0.693]\n",
    "labels = ['baseline', 'CNN', 'handcrated']\n",
    "\n",
    "plt.scatter(times, accuracies, color='blue')\n",
    "for i in range(len(times)):\n",
    "    plt.text(times[i], accuracies[i], labels[i], fontsize=9, ha='right')\n",
    "\n",
    "plt.title('Time vs Accuracy')\n",
    "plt.xlabel('Time (ms)')\n",
    "plt.ylabel('Accuracy')\n",
    "\n",
    "plt.show()"
   ]
  },
  {
   "cell_type": "code",
   "execution_count": null,
   "metadata": {},
   "outputs": [],
   "source": [
    "times = [2.2, 1.2]\n",
    "accuracies = [0.1738, 0.89]\n",
    "labels = ['baseline', 'CNN']\n",
    "\n",
    "plt.scatter(times, accuracies, color='blue')\n",
    "for i in range(len(times)):\n",
    "    plt.text(times[i], accuracies[i], labels[i], fontsize=9, ha='right')\n",
    "\n",
    "plt.title('Time vs Accuracy (CNN)')\n",
    "plt.xlabel('Time (ms)')\n",
    "plt.ylabel('Accuracy')\n",
    "\n",
    "plt.show()"
   ]
  },
  {
   "cell_type": "code",
   "execution_count": null,
   "metadata": {},
   "outputs": [],
   "source": [
    "parameters = [8487498, 622602, 243000]\n",
    "accuracies = [0.1738, 0.93, 0.693]\n",
    "labels = ['baseline', 'CNN', 'handcrated']\n",
    "# Creating the scatter plot\n",
    "plt.scatter(parameters, accuracies, color='blue')\n",
    "for i in range(len(parameters)):\n",
    "    plt.text(parameters[i], accuracies[i], labels[i], fontsize=9, ha='right')\n",
    "# Adding title and labels\n",
    "plt.title('Parameters vs Accuracy')\n",
    "plt.xlabel('Number of Parameters (Model)')\n",
    "plt.ylabel('Accuracy')\n",
    "# Show the plot\n",
    "plt.show()"
   ]
  },
  {
   "cell_type": "code",
   "execution_count": 25,
   "metadata": {},
   "outputs": [
    {
     "name": "stdout",
     "output_type": "stream",
     "text": [
      "4512\n",
      "[5 3 3 ... 3 2 0]\n",
      "[[457   0   4   0   1   0   0   1   0   0]\n",
      " [  1 469   0   0   1   5   0   0   0   0]\n",
      " [  3   0 411   0   0   0   0   0   0   0]\n",
      " [  2   0   2 442   0   1   0   2   0   0]\n",
      " [  1   0  12   0 430   7   0   0   0   0]\n",
      " [  0   0   0   0   0 426   0   1   0   0]\n",
      " [  7   0   3   1   0   3 419  18   2   0]\n",
      " [  4   0   0   0   0   0   0 456   0   0]\n",
      " [  3   0   3  10   0   2   0   1 430   0]\n",
      " [ 17  33   3   4   0  91   0  41   0 282]]\n",
      "Accuracy: 0.93572695035461\n"
     ]
    }
   ],
   "source": [
    "from itertools import tee\n",
    "temp = test_dataset.as_numpy_iterator()\n",
    "temp, temp2 = tee(temp)\n",
    "testing = temp\n",
    "arrays = [y for x, y in temp2]\n",
    "true_classes = []\n",
    "for array in arrays:\n",
    "    true_classes.extend(array)\n",
    "import numpy as np\n",
    "import matplotlib.pyplot as plt\n",
    "import seaborn as sns\n",
    "from sklearn.metrics import confusion_matrix\n",
    "\n",
    "# Get predictions\n",
    "predictions = model.predict(temp, verbose=0)\n",
    "print(len(predictions))\n",
    "predicted_classes = np.argmax(predictions, axis=1)\n",
    "\n",
    "# Extract true labels from batches\n",
    "# true_classes = np.concatenate([y.numpy() for x, y in testing])\n",
    "# true_classes = true_classes[np.logical_not(np.isnan(true_classes))]\n",
    "# Create confusion matrix\n",
    "print(predicted_classes)\n",
    "cm = confusion_matrix(true_classes, predicted_classes)\n",
    "\n",
    "# Plot the matrix\n",
    "print(cm)\n",
    "from sklearn.metrics import accuracy_score\n",
    "accuracy = accuracy_score(true_classes, predicted_classes)\n",
    "print(f\"Accuracy: {accuracy}\")"
   ]
  },
  {
   "cell_type": "code",
   "execution_count": null,
   "metadata": {},
   "outputs": [],
   "source": [
    "model.predict(test_dataset)"
   ]
  },
  {
   "cell_type": "code",
   "execution_count": null,
   "metadata": {},
   "outputs": [],
   "source": []
  },
  {
   "cell_type": "code",
   "execution_count": null,
   "metadata": {},
   "outputs": [],
   "source": []
  }
 ],
 "metadata": {
  "colab": {
   "provenance": []
  },
  "kernelspec": {
   "display_name": "Python 3 (ipykernel)",
   "language": "python",
   "name": "python3"
  },
  "language_info": {
   "codemirror_mode": {
    "name": "ipython",
    "version": 3
   },
   "file_extension": ".py",
   "mimetype": "text/x-python",
   "name": "python",
   "nbconvert_exporter": "python",
   "pygments_lexer": "ipython3",
   "version": "3.9.18"
  }
 },
 "nbformat": 4,
 "nbformat_minor": 4
}
